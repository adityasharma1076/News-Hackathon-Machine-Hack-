{
 "cells": [
  {
   "cell_type": "code",
   "execution_count": 1,
   "metadata": {},
   "outputs": [],
   "source": [
    "import bs4\n",
    "import requests\n",
    "import pandas as pd\n",
    "import numpy as np"
   ]
  },
  {
   "cell_type": "code",
   "execution_count": 2,
   "metadata": {},
   "outputs": [],
   "source": [
    "Train = pd.read_excel('Data_Train.xlsx')"
   ]
  },
  {
   "cell_type": "code",
   "execution_count": 3,
   "metadata": {},
   "outputs": [],
   "source": [
    "Test = pd.read_excel('Data_Test.xlsx')"
   ]
  },
  {
   "cell_type": "code",
   "execution_count": 4,
   "metadata": {},
   "outputs": [
    {
     "name": "stdout",
     "output_type": "stream",
     "text": [
      "<class 'pandas.core.frame.DataFrame'>\n",
      "RangeIndex: 7628 entries, 0 to 7627\n",
      "Data columns (total 2 columns):\n",
      "STORY      7628 non-null object\n",
      "SECTION    7628 non-null int64\n",
      "dtypes: int64(1), object(1)\n",
      "memory usage: 119.3+ KB\n"
     ]
    }
   ],
   "source": [
    "Train.info()"
   ]
  },
  {
   "cell_type": "code",
   "execution_count": 5,
   "metadata": {},
   "outputs": [
    {
     "data": {
      "text/plain": [
       "(7628, 2)"
      ]
     },
     "execution_count": 5,
     "metadata": {},
     "output_type": "execute_result"
    }
   ],
   "source": [
    "Train.shape"
   ]
  },
  {
   "cell_type": "code",
   "execution_count": 6,
   "metadata": {},
   "outputs": [],
   "source": [
    "#df = Train.drop_duplicates(subset='STORY')\n",
    "df = Train.drop_duplicates()\n"
   ]
  },
  {
   "cell_type": "code",
   "execution_count": 7,
   "metadata": {},
   "outputs": [
    {
     "name": "stderr",
     "output_type": "stream",
     "text": [
      "C:\\Users\\drago\\Anaconda3\\lib\\site-packages\\ipykernel_launcher.py:5: SettingWithCopyWarning: \n",
      "A value is trying to be set on a copy of a slice from a DataFrame.\n",
      "Try using .loc[row_indexer,col_indexer] = value instead\n",
      "\n",
      "See the caveats in the documentation: http://pandas.pydata.org/pandas-docs/stable/indexing.html#indexing-view-versus-copy\n",
      "  \"\"\"\n"
     ]
    }
   ],
   "source": [
    "def get_len(x):\n",
    "    length = len(x)\n",
    "    \n",
    "    return length\n",
    "df['Length'] = df['STORY'].apply(get_len)"
   ]
  },
  {
   "cell_type": "code",
   "execution_count": 8,
   "metadata": {},
   "outputs": [],
   "source": [
    "import seaborn as sns\n"
   ]
  },
  {
   "cell_type": "code",
   "execution_count": 9,
   "metadata": {},
   "outputs": [
    {
     "data": {
      "text/plain": [
       "<matplotlib.axes._subplots.AxesSubplot at 0x16d1ae2aac8>"
      ]
     },
     "execution_count": 9,
     "metadata": {},
     "output_type": "execute_result"
    },
    {
     "data": {
      "image/png": "[encoded data removed]",
      "text/plain": [
       "<matplotlib.figure.Figure at 0x16d1ae2a470>"
      ]
     },
     "metadata": {},
     "output_type": "display_data"
    }
   ],
   "source": [
    "sns.distplot(df['Length'])"
   ]
  },
  {
   "cell_type": "code",
   "execution_count": null,
   "metadata": {},
   "outputs": [],
   "source": []
  },
  {
   "cell_type": "code",
   "execution_count": 10,
   "metadata": {},
   "outputs": [
    {
     "data": {
      "text/html": [
       "<div>\n",
       "<style scoped>\n",
       "    .dataframe tbody tr th:only-of-type {\n",
       "        vertical-align: middle;\n",
       "    }\n",
       "\n",
       "    .dataframe tbody tr th {\n",
       "        vertical-align: top;\n",
       "    }\n",
       "\n",
       "    .dataframe thead th {\n",
       "        text-align: right;\n",
       "    }\n",
       "</style>\n",
       "<table border=\"1\" class=\"dataframe\">\n",
       "  <thead>\n",
       "    <tr style=\"text-align: right;\">\n",
       "      <th></th>\n",
       "      <th>STORY</th>\n",
       "      <th>SECTION</th>\n",
       "      <th>Length</th>\n",
       "    </tr>\n",
       "  </thead>\n",
       "  <tbody>\n",
       "    <tr>\n",
       "      <th>6946</th>\n",
       "      <td>The actor said, “A person like me who has neve...</td>\n",
       "      <td>2</td>\n",
       "      <td>100</td>\n",
       "    </tr>\n",
       "    <tr>\n",
       "      <th>5610</th>\n",
       "      <td>Having the chance to reimagine Pinhead and the...</td>\n",
       "      <td>2</td>\n",
       "      <td>100</td>\n",
       "    </tr>\n",
       "    <tr>\n",
       "      <th>1470</th>\n",
       "      <td>According to sources, it had 17 crore footfall...</td>\n",
       "      <td>2</td>\n",
       "      <td>100</td>\n",
       "    </tr>\n",
       "    <tr>\n",
       "      <th>3410</th>\n",
       "      <td>It’s hard to remember who any of the cast memb...</td>\n",
       "      <td>2</td>\n",
       "      <td>100</td>\n",
       "    </tr>\n",
       "    <tr>\n",
       "      <th>4723</th>\n",
       "      <td>The movie is led by Margot Robbie’s Harley Qui...</td>\n",
       "      <td>2</td>\n",
       "      <td>100</td>\n",
       "    </tr>\n",
       "    <tr>\n",
       "      <th>2671</th>\n",
       "      <td>(But) things have changed today in terms of ac...</td>\n",
       "      <td>2</td>\n",
       "      <td>100</td>\n",
       "    </tr>\n",
       "    <tr>\n",
       "      <th>6686</th>\n",
       "      <td>The directorial debut of Prithviraj Sukumaran ...</td>\n",
       "      <td>2</td>\n",
       "      <td>100</td>\n",
       "    </tr>\n",
       "    <tr>\n",
       "      <th>2925</th>\n",
       "      <td>There is nothing like an Instagram from the ai...</td>\n",
       "      <td>1</td>\n",
       "      <td>101</td>\n",
       "    </tr>\n",
       "    <tr>\n",
       "      <th>620</th>\n",
       "      <td>There were also issues with WhatsApp and Insta...</td>\n",
       "      <td>1</td>\n",
       "      <td>101</td>\n",
       "    </tr>\n",
       "    <tr>\n",
       "      <th>944</th>\n",
       "      <td>As I used to churn out four-five scripts for T...</td>\n",
       "      <td>2</td>\n",
       "      <td>101</td>\n",
       "    </tr>\n",
       "    <tr>\n",
       "      <th>2078</th>\n",
       "      <td>”After dominating the wrestling field, Sangram...</td>\n",
       "      <td>2</td>\n",
       "      <td>101</td>\n",
       "    </tr>\n",
       "    <tr>\n",
       "      <th>149</th>\n",
       "      <td>The full lineup of the festival, which runs fr...</td>\n",
       "      <td>2</td>\n",
       "      <td>101</td>\n",
       "    </tr>\n",
       "    <tr>\n",
       "      <th>2003</th>\n",
       "      <td>In the song, Salman announces himself to be a ...</td>\n",
       "      <td>2</td>\n",
       "      <td>101</td>\n",
       "    </tr>\n",
       "    <tr>\n",
       "      <th>1287</th>\n",
       "      <td>Several popular iOS apps have been found recor...</td>\n",
       "      <td>1</td>\n",
       "      <td>101</td>\n",
       "    </tr>\n",
       "    <tr>\n",
       "      <th>4478</th>\n",
       "      <td>David Leitch, best known for directing Deadpoo...</td>\n",
       "      <td>2</td>\n",
       "      <td>101</td>\n",
       "    </tr>\n",
       "    <tr>\n",
       "      <th>7368</th>\n",
       "      <td>The film’s release was stalled by the Election...</td>\n",
       "      <td>2</td>\n",
       "      <td>101</td>\n",
       "    </tr>\n",
       "    <tr>\n",
       "      <th>6096</th>\n",
       "      <td>For him as well, this conflict has become pers...</td>\n",
       "      <td>2</td>\n",
       "      <td>101</td>\n",
       "    </tr>\n",
       "    <tr>\n",
       "      <th>5742</th>\n",
       "      <td>After receiving the award for her performance ...</td>\n",
       "      <td>2</td>\n",
       "      <td>101</td>\n",
       "    </tr>\n",
       "    <tr>\n",
       "      <th>668</th>\n",
       "      <td>Veteran Congress leader Sushil Kumar Shinde ca...</td>\n",
       "      <td>0</td>\n",
       "      <td>101</td>\n",
       "    </tr>\n",
       "    <tr>\n",
       "      <th>3096</th>\n",
       "      <td>Aamir Khan was last seen in Thugs of Hindostan...</td>\n",
       "      <td>2</td>\n",
       "      <td>102</td>\n",
       "    </tr>\n",
       "    <tr>\n",
       "      <th>473</th>\n",
       "      <td>Murder Mystery reunites Adam Sandler and Jenni...</td>\n",
       "      <td>2</td>\n",
       "      <td>102</td>\n",
       "    </tr>\n",
       "    <tr>\n",
       "      <th>1382</th>\n",
       "      <td>“I don’t want to say (being groped) comes with...</td>\n",
       "      <td>2</td>\n",
       "      <td>102</td>\n",
       "    </tr>\n",
       "    <tr>\n",
       "      <th>6084</th>\n",
       "      <td>The David Dhawan directorial, starring Varun D...</td>\n",
       "      <td>2</td>\n",
       "      <td>102</td>\n",
       "    </tr>\n",
       "    <tr>\n",
       "      <th>6825</th>\n",
       "      <td>They also talked about a scene during the batt...</td>\n",
       "      <td>2</td>\n",
       "      <td>102</td>\n",
       "    </tr>\n",
       "    <tr>\n",
       "      <th>819</th>\n",
       "      <td>Jonas Brothers also just announced their new t...</td>\n",
       "      <td>2</td>\n",
       "      <td>102</td>\n",
       "    </tr>\n",
       "    <tr>\n",
       "      <th>1356</th>\n",
       "      <td>The movie is produced by Bhushan Kumar, Divya ...</td>\n",
       "      <td>2</td>\n",
       "      <td>102</td>\n",
       "    </tr>\n",
       "    <tr>\n",
       "      <th>7592</th>\n",
       "      <td>Chiranjeevi’s son, actor Ram Charan is produci...</td>\n",
       "      <td>2</td>\n",
       "      <td>102</td>\n",
       "    </tr>\n",
       "    <tr>\n",
       "      <th>6329</th>\n",
       "      <td>And I said, ‘OK, I’ll add an action scene’… an...</td>\n",
       "      <td>2</td>\n",
       "      <td>102</td>\n",
       "    </tr>\n",
       "    <tr>\n",
       "      <th>4622</th>\n",
       "      <td>When asked if he has discussed the script with...</td>\n",
       "      <td>2</td>\n",
       "      <td>102</td>\n",
       "    </tr>\n",
       "    <tr>\n",
       "      <th>1741</th>\n",
       "      <td>Actors Sam Claflin and Freida Pinto have board...</td>\n",
       "      <td>2</td>\n",
       "      <td>102</td>\n",
       "    </tr>\n",
       "    <tr>\n",
       "      <th>...</th>\n",
       "      <td>...</td>\n",
       "      <td>...</td>\n",
       "      <td>...</td>\n",
       "    </tr>\n",
       "    <tr>\n",
       "      <th>6358</th>\n",
       "      <td>Educators: Overall this category could see a r...</td>\n",
       "      <td>1</td>\n",
       "      <td>3642</td>\n",
       "    </tr>\n",
       "    <tr>\n",
       "      <th>4176</th>\n",
       "      <td>While gait analysis has been used as supportiv...</td>\n",
       "      <td>1</td>\n",
       "      <td>3643</td>\n",
       "    </tr>\n",
       "    <tr>\n",
       "      <th>4086</th>\n",
       "      <td>Every city may have its own andaaz, a distinct...</td>\n",
       "      <td>0</td>\n",
       "      <td>3665</td>\n",
       "    </tr>\n",
       "    <tr>\n",
       "      <th>6232</th>\n",
       "      <td>The ECI is stuck in the 1980s in the middle of...</td>\n",
       "      <td>0</td>\n",
       "      <td>3673</td>\n",
       "    </tr>\n",
       "    <tr>\n",
       "      <th>3710</th>\n",
       "      <td>The crux of the administration’s argument is t...</td>\n",
       "      <td>1</td>\n",
       "      <td>3701</td>\n",
       "    </tr>\n",
       "    <tr>\n",
       "      <th>225</th>\n",
       "      <td>It’s been a while since a new social app got b...</td>\n",
       "      <td>1</td>\n",
       "      <td>3754</td>\n",
       "    </tr>\n",
       "    <tr>\n",
       "      <th>6128</th>\n",
       "      <td>“I love my country, I support the Communist Pa...</td>\n",
       "      <td>1</td>\n",
       "      <td>3756</td>\n",
       "    </tr>\n",
       "    <tr>\n",
       "      <th>247</th>\n",
       "      <td>The writing on the wall of Mahato’s house give...</td>\n",
       "      <td>0</td>\n",
       "      <td>3791</td>\n",
       "    </tr>\n",
       "    <tr>\n",
       "      <th>1612</th>\n",
       "      <td>Post Pulwama, there’s a general impression tha...</td>\n",
       "      <td>0</td>\n",
       "      <td>3825</td>\n",
       "    </tr>\n",
       "    <tr>\n",
       "      <th>2793</th>\n",
       "      <td>In other foreign capitals, US officials are pl...</td>\n",
       "      <td>1</td>\n",
       "      <td>3828</td>\n",
       "    </tr>\n",
       "    <tr>\n",
       "      <th>2389</th>\n",
       "      <td>Imagine a version of Facebook that was able to...</td>\n",
       "      <td>1</td>\n",
       "      <td>3836</td>\n",
       "    </tr>\n",
       "    <tr>\n",
       "      <th>650</th>\n",
       "      <td>With Avengers: Endgame, the two-movie storylin...</td>\n",
       "      <td>2</td>\n",
       "      <td>3854</td>\n",
       "    </tr>\n",
       "    <tr>\n",
       "      <th>2433</th>\n",
       "      <td>Odd it may sound, but in these parts donning s...</td>\n",
       "      <td>0</td>\n",
       "      <td>3930</td>\n",
       "    </tr>\n",
       "    <tr>\n",
       "      <th>5778</th>\n",
       "      <td>A look at how Artificial Intelligence, blockch...</td>\n",
       "      <td>1</td>\n",
       "      <td>3977</td>\n",
       "    </tr>\n",
       "    <tr>\n",
       "      <th>6788</th>\n",
       "      <td>Incidentally, Dinesh Trivedi’s constituency—th...</td>\n",
       "      <td>0</td>\n",
       "      <td>3984</td>\n",
       "    </tr>\n",
       "    <tr>\n",
       "      <th>4465</th>\n",
       "      <td>The administration of President Donald Trump i...</td>\n",
       "      <td>1</td>\n",
       "      <td>4050</td>\n",
       "    </tr>\n",
       "    <tr>\n",
       "      <th>886</th>\n",
       "      <td>THIRD, consideration should also be given to t...</td>\n",
       "      <td>0</td>\n",
       "      <td>4052</td>\n",
       "    </tr>\n",
       "    <tr>\n",
       "      <th>5975</th>\n",
       "      <td>TikTok assertively answers anyone’s what shoul...</td>\n",
       "      <td>1</td>\n",
       "      <td>4166</td>\n",
       "    </tr>\n",
       "    <tr>\n",
       "      <th>2289</th>\n",
       "      <td>Devotees throng the streets of Nagpur to celeb...</td>\n",
       "      <td>0</td>\n",
       "      <td>4335</td>\n",
       "    </tr>\n",
       "    <tr>\n",
       "      <th>2803</th>\n",
       "      <td>When the candidates arrived, all the questions...</td>\n",
       "      <td>0</td>\n",
       "      <td>4431</td>\n",
       "    </tr>\n",
       "    <tr>\n",
       "      <th>1228</th>\n",
       "      <td>In an election rally in November, when Modi sa...</td>\n",
       "      <td>0</td>\n",
       "      <td>4440</td>\n",
       "    </tr>\n",
       "    <tr>\n",
       "      <th>2314</th>\n",
       "      <td>Conrad Sangma, the NPP supremo and chief minis...</td>\n",
       "      <td>0</td>\n",
       "      <td>4591</td>\n",
       "    </tr>\n",
       "    <tr>\n",
       "      <th>7342</th>\n",
       "      <td>Mint asked top company bosses how they see dis...</td>\n",
       "      <td>1</td>\n",
       "      <td>4940</td>\n",
       "    </tr>\n",
       "    <tr>\n",
       "      <th>7246</th>\n",
       "      <td>Thoughts on AI (Machine Learning, Deep Learnin...</td>\n",
       "      <td>1</td>\n",
       "      <td>5173</td>\n",
       "    </tr>\n",
       "    <tr>\n",
       "      <th>3700</th>\n",
       "      <td>Like most cities its size, Nagpur is erasing i...</td>\n",
       "      <td>0</td>\n",
       "      <td>5234</td>\n",
       "    </tr>\n",
       "    <tr>\n",
       "      <th>2700</th>\n",
       "      <td>There was a time when only Russia was with us ...</td>\n",
       "      <td>0</td>\n",
       "      <td>5773</td>\n",
       "    </tr>\n",
       "    <tr>\n",
       "      <th>6814</th>\n",
       "      <td>In today’s world, data is a company’s most val...</td>\n",
       "      <td>1</td>\n",
       "      <td>5826</td>\n",
       "    </tr>\n",
       "    <tr>\n",
       "      <th>4989</th>\n",
       "      <td>In 2014, Gadkari rode the Modi wave to win by ...</td>\n",
       "      <td>0</td>\n",
       "      <td>5855</td>\n",
       "    </tr>\n",
       "    <tr>\n",
       "      <th>7256</th>\n",
       "      <td>The Congress has made numerous promises in its...</td>\n",
       "      <td>0</td>\n",
       "      <td>5926</td>\n",
       "    </tr>\n",
       "    <tr>\n",
       "      <th>5720</th>\n",
       "      <td>The Digital India initiative is a significant ...</td>\n",
       "      <td>1</td>\n",
       "      <td>6015</td>\n",
       "    </tr>\n",
       "  </tbody>\n",
       "</table>\n",
       "<p>7551 rows × 3 columns</p>\n",
       "</div>"
      ],
      "text/plain": [
       "                                                  STORY  SECTION  Length\n",
       "6946  The actor said, “A person like me who has neve...        2     100\n",
       "5610  Having the chance to reimagine Pinhead and the...        2     100\n",
       "1470  According to sources, it had 17 crore footfall...        2     100\n",
       "3410  It’s hard to remember who any of the cast memb...        2     100\n",
       "4723  The movie is led by Margot Robbie’s Harley Qui...        2     100\n",
       "2671  (But) things have changed today in terms of ac...        2     100\n",
       "6686  The directorial debut of Prithviraj Sukumaran ...        2     100\n",
       "2925  There is nothing like an Instagram from the ai...        1     101\n",
       "620   There were also issues with WhatsApp and Insta...        1     101\n",
       "944   As I used to churn out four-five scripts for T...        2     101\n",
       "2078  ”After dominating the wrestling field, Sangram...        2     101\n",
       "149   The full lineup of the festival, which runs fr...        2     101\n",
       "2003  In the song, Salman announces himself to be a ...        2     101\n",
       "1287  Several popular iOS apps have been found recor...        1     101\n",
       "4478  David Leitch, best known for directing Deadpoo...        2     101\n",
       "7368  The film’s release was stalled by the Election...        2     101\n",
       "6096  For him as well, this conflict has become pers...        2     101\n",
       "5742  After receiving the award for her performance ...        2     101\n",
       "668   Veteran Congress leader Sushil Kumar Shinde ca...        0     101\n",
       "3096  Aamir Khan was last seen in Thugs of Hindostan...        2     102\n",
       "473   Murder Mystery reunites Adam Sandler and Jenni...        2     102\n",
       "1382  “I don’t want to say (being groped) comes with...        2     102\n",
       "6084  The David Dhawan directorial, starring Varun D...        2     102\n",
       "6825  They also talked about a scene during the batt...        2     102\n",
       "819   Jonas Brothers also just announced their new t...        2     102\n",
       "1356  The movie is produced by Bhushan Kumar, Divya ...        2     102\n",
       "7592  Chiranjeevi’s son, actor Ram Charan is produci...        2     102\n",
       "6329  And I said, ‘OK, I’ll add an action scene’… an...        2     102\n",
       "4622  When asked if he has discussed the script with...        2     102\n",
       "1741  Actors Sam Claflin and Freida Pinto have board...        2     102\n",
       "...                                                 ...      ...     ...\n",
       "6358  Educators: Overall this category could see a r...        1    3642\n",
       "4176  While gait analysis has been used as supportiv...        1    3643\n",
       "4086  Every city may have its own andaaz, a distinct...        0    3665\n",
       "6232  The ECI is stuck in the 1980s in the middle of...        0    3673\n",
       "3710  The crux of the administration’s argument is t...        1    3701\n",
       "225   It’s been a while since a new social app got b...        1    3754\n",
       "6128  “I love my country, I support the Communist Pa...        1    3756\n",
       "247   The writing on the wall of Mahato’s house give...        0    3791\n",
       "1612  Post Pulwama, there’s a general impression tha...        0    3825\n",
       "2793  In other foreign capitals, US officials are pl...        1    3828\n",
       "2389  Imagine a version of Facebook that was able to...        1    3836\n",
       "650   With Avengers: Endgame, the two-movie storylin...        2    3854\n",
       "2433  Odd it may sound, but in these parts donning s...        0    3930\n",
       "5778  A look at how Artificial Intelligence, blockch...        1    3977\n",
       "6788  Incidentally, Dinesh Trivedi’s constituency—th...        0    3984\n",
       "4465  The administration of President Donald Trump i...        1    4050\n",
       "886   THIRD, consideration should also be given to t...        0    4052\n",
       "5975  TikTok assertively answers anyone’s what shoul...        1    4166\n",
       "2289  Devotees throng the streets of Nagpur to celeb...        0    4335\n",
       "2803  When the candidates arrived, all the questions...        0    4431\n",
       "1228  In an election rally in November, when Modi sa...        0    4440\n",
       "2314  Conrad Sangma, the NPP supremo and chief minis...        0    4591\n",
       "7342  Mint asked top company bosses how they see dis...        1    4940\n",
       "7246  Thoughts on AI (Machine Learning, Deep Learnin...        1    5173\n",
       "3700  Like most cities its size, Nagpur is erasing i...        0    5234\n",
       "2700  There was a time when only Russia was with us ...        0    5773\n",
       "6814  In today’s world, data is a company’s most val...        1    5826\n",
       "4989  In 2014, Gadkari rode the Modi wave to win by ...        0    5855\n",
       "7256  The Congress has made numerous promises in its...        0    5926\n",
       "5720  The Digital India initiative is a significant ...        1    6015\n",
       "\n",
       "[7551 rows x 3 columns]"
      ]
     },
     "execution_count": 10,
     "metadata": {},
     "output_type": "execute_result"
    }
   ],
   "source": [
    "df.sort_values(by='Length')"
   ]
  },
  {
   "cell_type": "code",
   "execution_count": 11,
   "metadata": {},
   "outputs": [],
   "source": [
    "#df[df['Length']<4591]"
   ]
  },
  {
   "cell_type": "code",
   "execution_count": 12,
   "metadata": {},
   "outputs": [],
   "source": [
    "df_2 = Train"
   ]
  },
  {
   "cell_type": "code",
   "execution_count": 13,
   "metadata": {},
   "outputs": [
    {
     "data": {
      "text/plain": [
       "(7551, 3)"
      ]
     },
     "execution_count": 13,
     "metadata": {},
     "output_type": "execute_result"
    }
   ],
   "source": [
    "df.shape\n",
    "\n"
   ]
  },
  {
   "cell_type": "code",
   "execution_count": 14,
   "metadata": {
    "scrolled": true
   },
   "outputs": [
    {
     "data": {
      "text/plain": [
       "1    2772\n",
       "2    1924\n",
       "0    1686\n",
       "3    1246\n",
       "Name: SECTION, dtype: int64"
      ]
     },
     "execution_count": 14,
     "metadata": {},
     "output_type": "execute_result"
    }
   ],
   "source": [
    "Train['SECTION'].value_counts()"
   ]
  },
  {
   "cell_type": "code",
   "execution_count": 15,
   "metadata": {},
   "outputs": [
    {
     "name": "stderr",
     "output_type": "stream",
     "text": [
      "C:\\Users\\drago\\Anaconda3\\lib\\site-packages\\ipykernel_launcher.py:13: SettingWithCopyWarning: \n",
      "A value is trying to be set on a copy of a slice from a DataFrame.\n",
      "Try using .loc[row_indexer,col_indexer] = value instead\n",
      "\n",
      "See the caveats in the documentation: http://pandas.pydata.org/pandas-docs/stable/indexing.html#indexing-view-versus-copy\n",
      "  del sys.path[0]\n",
      "C:\\Users\\drago\\Anaconda3\\lib\\site-packages\\ipykernel_launcher.py:14: SettingWithCopyWarning: \n",
      "A value is trying to be set on a copy of a slice from a DataFrame.\n",
      "Try using .loc[row_indexer,col_indexer] = value instead\n",
      "\n",
      "See the caveats in the documentation: http://pandas.pydata.org/pandas-docs/stable/indexing.html#indexing-view-versus-copy\n",
      "  \n"
     ]
    }
   ],
   "source": [
    "def fix_backslash_n(string):\n",
    "    string=string.replace('\\n','')\n",
    "    #while '  ' in string:\n",
    "        #string.replace('  ',' ')\n",
    "    return string\n",
    "\n",
    "def remove_extra(string):\n",
    "    \n",
    "    if 'story has been published from a wire agency feed without modifications to the text. Only the headline has been changed.' in string :\n",
    "        string.replace('story has been published from a wire agency feed without modifications to the text. Only the headline has been changed.',' ')\n",
    "    return string\n",
    "\n",
    "df['STORY'] =df['STORY'].apply(fix_backslash_n)\n",
    "df['STORY'] =df['STORY'].apply(remove_extra)\n"
   ]
  },
  {
   "cell_type": "code",
   "execution_count": null,
   "metadata": {},
   "outputs": [],
   "source": []
  },
  {
   "cell_type": "code",
   "execution_count": 16,
   "metadata": {},
   "outputs": [
    {
     "name": "stdout",
     "output_type": "stream",
     "text": [
      "[nltk_data] Downloading package wordnet to C:\\Users\\drago/nltk_data...\n",
      "[nltk_data]   Package wordnet is already up-to-date!\n",
      "[nltk_data] Downloading package stopwords to\n",
      "[nltk_data]     C:\\Users\\drago/nltk_data...\n",
      "[nltk_data]   Package stopwords is already up-to-date!\n",
      "[nltk_data] Downloading package punkt to C:\\Users\\drago/nltk_data...\n",
      "[nltk_data]   Package punkt is already up-to-date!\n"
     ]
    },
    {
     "data": {
      "text/plain": [
       "True"
      ]
     },
     "execution_count": 16,
     "metadata": {},
     "output_type": "execute_result"
    }
   ],
   "source": [
    "from nltk.corpus import stopwords\n",
    "from sklearn.feature_extraction.text import TfidfVectorizer\n",
    "import nltk\n",
    "import re\n",
    "import string\n",
    "from nltk.stem.wordnet import WordNetLemmatizer\n",
    "from nltk.tokenize import word_tokenize\n",
    "from num2words import num2words\n",
    "from nltk.stem.snowball import SnowballStemmer\n",
    "stemmer = SnowballStemmer(\"english\")\n",
    "\n",
    "nltk.download('wordnet')\n",
    "nltk.download('stopwords')\n",
    "nltk.download('punkt')"
   ]
  },
  {
   "cell_type": "code",
   "execution_count": 17,
   "metadata": {},
   "outputs": [],
   "source": [
    "stop = ['a', 'about', 'above', 'across', 'after', 'afterwards', 'again', 'against', 'all', 'almost', 'alone',\n",
    "             'along', 'already', 'also', 'although', 'always', 'am', 'among', 'amongst', 'amoungst', 'amount',\n",
    "             'an', 'and', 'another', 'any', 'anyhow', 'anyone', 'anything', 'anyway', 'anywhere', 'are', 'around',\n",
    "             'as', 'at', 'back', 'be', 'became', 'because', 'become', 'becomes', 'becoming', 'been', 'before',\n",
    "             'beforehand', 'behind', 'being', 'below', 'beside', 'besides', 'between', 'beyond', 'bill', 'both',\n",
    "             'bottom', 'but', 'by', 'call', 'can', 'cannot', 'cant', 'co', 'con', 'could', 'couldnt', 'cry', 'de',\n",
    "             'describe', 'detail', 'did', 'do', 'does', 'doing', 'don', 'done', 'down', 'due', 'during', 'each', 'eg',\n",
    "             'eight', 'either', 'eleven', 'else', 'elsewhere', 'empty', 'enough', 'etc', 'even', 'ever', 'every', 'everyone',\n",
    "             'everything', 'everywhere', 'except', 'few', 'fifteen', 'fify', 'fill', 'find', 'fire', 'first', 'five', 'for',\n",
    "             'former', 'formerly', 'forty', 'found', 'four', 'from', 'front', 'full', 'further', 'get', 'give', 'go', 'had',\n",
    "             'has', 'hasnt', 'have', 'having', 'he', 'hence', 'her', 'here', 'hereafter', 'hereby', 'herein', 'hereupon',\n",
    "             'hers', 'herself', 'him', 'himself', 'his', 'how', 'however', 'hundred', 'i', 'ie', 'if', 'in', 'inc', 'indeed',\n",
    "             'interest', 'into', 'is', 'it', 'its', 'itself', 'just', 'keep', 'last', 'latter', 'latterly', 'least', 'less',\n",
    "             'ltd', 'made', 'many', 'may', 'me', 'meanwhile', 'might', 'mill', 'mine', 'more', 'moreover', 'most', 'mostly',\n",
    "             'move', 'much', 'must', 'my', 'myself', 'name', 'namely', 'neither', 'never', 'nevertheless', 'next', 'nine',\n",
    "             'no', 'nobody', 'none', 'noone', 'nor', 'not', 'nothing', 'now', 'nowhere', 'of', 'off', 'often', 'on', 'once',\n",
    "             'one', 'only', 'onto', 'or', 'other', 'others', 'otherwise', 'our', 'ours', 'ourselves', 'out', 'over', 'own',\n",
    "             'part', 'per', 'perhaps', 'please', 'put', 'rather', 're', 's', 'same', 'see', 'seem', 'seemed', 'seeming',\n",
    "             'seems', 'serious', 'several', 'she', 'should', 'show', 'side', 'since', 'sincere', 'six', 'sixty', 'so', \n",
    "             'some', 'somehow', 'someone', 'something', 'sometime', 'sometimes', 'somewhere', 'still', 'such', 'system',\n",
    "             't', 'take', 'ten', 'than', 'that', 'the', 'their', 'theirs', 'them', 'themselves', 'then', 'thence', 'there',\n",
    "             'thereafter', 'thereby', 'therefore', 'therein', 'thereupon', 'these', 'they', 'thickv', 'thin', 'third', 'this',\n",
    "             'those', 'though', 'three', 'through', 'throughout', 'thru', 'thus', 'to', 'together', 'too', 'top', 'toward',\n",
    "             'towards', 'twelve', 'twenty', 'two', 'un', 'under', 'until', 'up', 'upon', 'us', 'very', 'via', 'was', 'we',\n",
    "             'well', 'were', 'what', 'whatever', 'when', 'whence', 'whenever', 'where', 'whereafter', 'whereas', 'whereby',\n",
    "             'wherein', 'whereupon', 'wherever', 'whether', 'which', 'while', 'whither', 'who', 'whoever', 'whole', 'whom',\n",
    "             'whose', 'why', 'will', 'with', 'within', 'without', 'would', 'yet', 'you', 'your', 'yours', 'yourself',\n",
    "             'yourselves','click','january','thousand','nineteen','said'\n",
    "       ]"
   ]
  },
  {
   "cell_type": "code",
   "execution_count": 18,
   "metadata": {},
   "outputs": [],
   "source": [
    "stop_words = stopwords.words('english')\n",
    "stop_words.extend(stop)\n",
    "stop = set(stop_words)\n",
    "exclude = set(string.punctuation)\n",
    "lemma = WordNetLemmatizer()"
   ]
  },
  {
   "cell_type": "code",
   "execution_count": 19,
   "metadata": {},
   "outputs": [],
   "source": [
    "def remove_apostrophe(data):\n",
    "    data = np.char.replace(data,\"’\",\"\")\n",
    "    data = np.char.replace(data, \"'\", \"\")\n",
    "    data = np.char.replace(data, \"‘\", \"\")\n",
    "    \n",
    "    \n",
    "    return data\n",
    "\n",
    "def remove_punctuation(data):\n",
    "    for i in (exclude):\n",
    "        data = np.char.replace(data, i, ' ')\n",
    "        data = np.char.replace(data, \"  \", \" \")\n",
    "    data = np.char.replace(data, ',', '')\n",
    "    data = np.char.replace(data, \"“\", \"\")\n",
    "    return data\n",
    "\n",
    "def convert_numbers(data):\n",
    "    tokens = word_tokenize(str(data))\n",
    "    new_text = \"\"\n",
    "    for w in tokens:\n",
    "        try:\n",
    "            w = num2words(int(w))\n",
    "        except:\n",
    "            a = 0\n",
    "        new_text = new_text + \" \" + w\n",
    "    new_text = np.char.replace(new_text, \"-\", \" \")\n",
    "    return new_text\n",
    "\n",
    "def clean(data):\n",
    "    stop_free = \" \".join([i for i in data.lower().split() if i not in stop])\n",
    "    normalized = \" \".join(lemma.lemmatize(word) for word in stop_free.split())\n",
    "    processed = re.sub(r\"\\d+\",\"\",normalized)\n",
    "    #y = processed.split()\n",
    "    return processed\n"
   ]
  },
  {
   "cell_type": "code",
   "execution_count": 20,
   "metadata": {},
   "outputs": [
    {
     "name": "stderr",
     "output_type": "stream",
     "text": [
      "C:\\Users\\drago\\Anaconda3\\lib\\site-packages\\ipykernel_launcher.py:1: SettingWithCopyWarning: \n",
      "A value is trying to be set on a copy of a slice from a DataFrame.\n",
      "Try using .loc[row_indexer,col_indexer] = value instead\n",
      "\n",
      "See the caveats in the documentation: http://pandas.pydata.org/pandas-docs/stable/indexing.html#indexing-view-versus-copy\n",
      "  \"\"\"Entry point for launching an IPython kernel.\n",
      "C:\\Users\\drago\\Anaconda3\\lib\\site-packages\\ipykernel_launcher.py:2: SettingWithCopyWarning: \n",
      "A value is trying to be set on a copy of a slice from a DataFrame.\n",
      "Try using .loc[row_indexer,col_indexer] = value instead\n",
      "\n",
      "See the caveats in the documentation: http://pandas.pydata.org/pandas-docs/stable/indexing.html#indexing-view-versus-copy\n",
      "  \n",
      "C:\\Users\\drago\\Anaconda3\\lib\\site-packages\\ipykernel_launcher.py:3: SettingWithCopyWarning: \n",
      "A value is trying to be set on a copy of a slice from a DataFrame.\n",
      "Try using .loc[row_indexer,col_indexer] = value instead\n",
      "\n",
      "See the caveats in the documentation: http://pandas.pydata.org/pandas-docs/stable/indexing.html#indexing-view-versus-copy\n",
      "  This is separate from the ipykernel package so we can avoid doing imports until\n",
      "C:\\Users\\drago\\Anaconda3\\lib\\site-packages\\ipykernel_launcher.py:4: SettingWithCopyWarning: \n",
      "A value is trying to be set on a copy of a slice from a DataFrame.\n",
      "Try using .loc[row_indexer,col_indexer] = value instead\n",
      "\n",
      "See the caveats in the documentation: http://pandas.pydata.org/pandas-docs/stable/indexing.html#indexing-view-versus-copy\n",
      "  after removing the cwd from sys.path.\n"
     ]
    }
   ],
   "source": [
    "df['STORY'] = df['STORY'].apply(remove_apostrophe)\n",
    "df['STORY'] = df['STORY'].apply(remove_punctuation)\n",
    "df['STORY'] = df['STORY'].apply(convert_numbers)\n",
    "df['STORY'] = df['STORY'].apply(clean)"
   ]
  },
  {
   "cell_type": "code",
   "execution_count": 21,
   "metadata": {},
   "outputs": [
    {
     "data": {
      "text/html": [
       "<div>\n",
       "<style scoped>\n",
       "    .dataframe tbody tr th:only-of-type {\n",
       "        vertical-align: middle;\n",
       "    }\n",
       "\n",
       "    .dataframe tbody tr th {\n",
       "        vertical-align: top;\n",
       "    }\n",
       "\n",
       "    .dataframe thead th {\n",
       "        text-align: right;\n",
       "    }\n",
       "</style>\n",
       "<table border=\"1\" class=\"dataframe\">\n",
       "  <thead>\n",
       "    <tr style=\"text-align: right;\">\n",
       "      <th></th>\n",
       "      <th>STORY</th>\n",
       "      <th>SECTION</th>\n",
       "      <th>Length</th>\n",
       "    </tr>\n",
       "  </thead>\n",
       "  <tbody>\n",
       "    <tr>\n",
       "      <th>7341</th>\n",
       "      <td>hmd globals chief product officer juho sarvika...</td>\n",
       "      <td>1</td>\n",
       "      <td>627</td>\n",
       "    </tr>\n",
       "  </tbody>\n",
       "</table>\n",
       "</div>"
      ],
      "text/plain": [
       "                                                  STORY  SECTION  Length\n",
       "7341  hmd globals chief product officer juho sarvika...        1     627"
      ]
     },
     "execution_count": 21,
     "metadata": {},
     "output_type": "execute_result"
    }
   ],
   "source": [
    "df[df['STORY']=='hmd globals chief product officer juho sarvikas recently posted video twitter throwback mwc eighteen teased nokia cooking upcoming leg trade fair expect awaited penta lens smartphone nokia pureview centre stage mwc smartphone making appearance online form unofficial render apart penta lens setup smartphone expected android device running snapdragon processor coupled gb ram hmds proprietary pureview display spanning ninety inch']"
   ]
  },
  {
   "cell_type": "code",
   "execution_count": 22,
   "metadata": {},
   "outputs": [
    {
     "data": {
      "text/html": [
       "<div>\n",
       "<style scoped>\n",
       "    .dataframe tbody tr th:only-of-type {\n",
       "        vertical-align: middle;\n",
       "    }\n",
       "\n",
       "    .dataframe tbody tr th {\n",
       "        vertical-align: top;\n",
       "    }\n",
       "\n",
       "    .dataframe thead th {\n",
       "        text-align: right;\n",
       "    }\n",
       "</style>\n",
       "<table border=\"1\" class=\"dataframe\">\n",
       "  <thead>\n",
       "    <tr style=\"text-align: right;\">\n",
       "      <th></th>\n",
       "      <th>STORY</th>\n",
       "      <th>SECTION</th>\n",
       "      <th>Length</th>\n",
       "    </tr>\n",
       "  </thead>\n",
       "  <tbody>\n",
       "    <tr>\n",
       "      <th>7341</th>\n",
       "      <td>hmd globals chief product officer juho sarvika...</td>\n",
       "      <td>1</td>\n",
       "      <td>627</td>\n",
       "    </tr>\n",
       "  </tbody>\n",
       "</table>\n",
       "</div>"
      ],
      "text/plain": [
       "                                                  STORY  SECTION  Length\n",
       "7341  hmd globals chief product officer juho sarvika...        1     627"
      ]
     },
     "execution_count": 22,
     "metadata": {},
     "output_type": "execute_result"
    }
   ],
   "source": [
    "df[df.index==7341]"
   ]
  },
  {
   "cell_type": "code",
   "execution_count": 23,
   "metadata": {},
   "outputs": [],
   "source": [
    "df = df.drop([7341],axis=0)"
   ]
  },
  {
   "cell_type": "code",
   "execution_count": 24,
   "metadata": {},
   "outputs": [],
   "source": [
    "def tokenize_and_stem(text):\n",
    "   \n",
    "    tokens = [word for sent in nltk.sent_tokenize(text) for word in nltk.word_tokenize(sent)]\n",
    "    filtered_tokens = []\n",
    "\n",
    "    for token in tokens:\n",
    "        if re.search('[a-zA-Z]', token):\n",
    "            filtered_tokens.append(token)\n",
    "    stems = [stemmer.stem(t) for t in filtered_tokens]\n",
    "    return stems"
   ]
  },
  {
   "cell_type": "code",
   "execution_count": 25,
   "metadata": {},
   "outputs": [],
   "source": [
    "X=df['STORY']\n",
    "y = df['SECTION']\n",
    "\n",
    "from sklearn.model_selection import train_test_split\n",
    "X_train, X_test, y_train, y_test = train_test_split(X, y, test_size=0.25, random_state=42)"
   ]
  },
  {
   "cell_type": "code",
   "execution_count": 26,
   "metadata": {},
   "outputs": [],
   "source": [
    "from sklearn.pipeline import Pipeline\n",
    "from sklearn.feature_extraction.text import TfidfTransformer\n",
    "from sklearn.feature_extraction.text import CountVectorizer, TfidfVectorizer\n",
    "from sklearn.metrics import accuracy_score\n",
    "from nltk.tokenize import word_tokenize\n"
   ]
  },
  {
   "cell_type": "markdown",
   "metadata": {},
   "source": [
    "from sklearn.naive_bayes import MultinomialNB\n",
    "from sklearn.metrics import classification_report\n",
    "\n",
    "\n",
    "MAX_DF = [300,400,450,500,550,600,650,700,750,800,850,900,950,1000,1050,1100,1200]\n",
    "MIN_DF = [4,5,6,7,8,9,10,20,30,40,50,60,70,80,90,100,110,120]\n",
    "\n",
    "ACU= []\n",
    "for i in MAX_DF:\n",
    "    for j in MIN_DF:\n",
    "\n",
    "        nb = Pipeline([('vect', CountVectorizer(max_df=i,min_df=j,ngram_range=(1, 2))),\n",
    "                       ('tfidf', TfidfTransformer(norm='l2')),\n",
    "                       ('clf', MultinomialNB())])\n",
    "        nb.fit(X_train, y_train)\n",
    "        y_pred = nb.predict(X_test)\n",
    "        acc = accuracy_score(y_pred, y_test)*100\n",
    "        print(acc)\n",
    "        ACU.append((i,j,acc))"
   ]
  },
  {
   "cell_type": "code",
   "execution_count": 27,
   "metadata": {},
   "outputs": [],
   "source": [
    "#pd.DataFrame(ACU,columns=['Max','Min','Accuracy']).sort_values(by='Accuracy',ascending=False).head(10)"
   ]
  },
  {
   "cell_type": "code",
   "execution_count": 28,
   "metadata": {},
   "outputs": [
    {
     "name": "stdout",
     "output_type": "stream",
     "text": [
      "accuracy 0.965572033898305\n",
      "             precision    recall  f1-score   support\n",
      "\n",
      "          0       0.97      0.97      0.97       415\n",
      "          1       0.94      0.99      0.96       666\n",
      "          2       0.99      0.94      0.96       497\n",
      "          3       0.98      0.95      0.97       310\n",
      "\n",
      "avg / total       0.97      0.97      0.97      1888\n",
      "\n"
     ]
    }
   ],
   "source": [
    "from sklearn.naive_bayes import MultinomialNB\n",
    "\n",
    "nb = Pipeline([('vect', CountVectorizer(max_df=1200,min_df=4,ngram_range=(1, 4), tokenizer=tokenize_and_stem)),\n",
    "               ('tfidf', TfidfTransformer(norm='l2',)),\n",
    "               ('clf', MultinomialNB()),\n",
    "              ])\n",
    "nb.fit(X_train, y_train)\n",
    "from sklearn.metrics import classification_report\n",
    "y_pred = nb.predict(X_test)\n",
    "\n",
    "print('accuracy %s' % accuracy_score(y_pred, y_test))\n",
    "print(classification_report(y_test, y_pred))"
   ]
  },
  {
   "cell_type": "markdown",
   "metadata": {},
   "source": [
    "ACU= []\n",
    "for i in MAX_DF:\n",
    "    for j in MIN_DF:\n",
    "\n",
    "        sgd = Pipeline([('vect', CountVectorizer(max_df=i,min_df=j,ngram_range=(1, 2), tokenizer=tokenize_and_stem)),\n",
    "                       ('tfidf', TfidfTransformer(norm='l2',)),\n",
    "                        ('clf', SGDClassifier(loss='hinge', penalty='l2',alpha=1e-3, random_state=101, max_iter=5, tol=None)),\n",
    "                       ])\n",
    "        sgd.fit(X_train, y_train)\n",
    "        y_pred = sgd.predict(X_test)\n",
    "        acc = accuracy_score(y_pred, y_test)*100\n",
    "        print(acc)\n",
    "        ACU.append((i,j,acc))"
   ]
  },
  {
   "cell_type": "code",
   "execution_count": 29,
   "metadata": {},
   "outputs": [],
   "source": [
    "#pd.DataFrame(ACU,columns=['Max','Min','Accuracy']).sort_values(by='Accuracy',ascending=False).head(20)"
   ]
  },
  {
   "cell_type": "code",
   "execution_count": 30,
   "metadata": {},
   "outputs": [
    {
     "name": "stdout",
     "output_type": "stream",
     "text": [
      "accuracy 0.979343220338983\n",
      "             precision    recall  f1-score   support\n",
      "\n",
      "          0       0.98      0.97      0.98       415\n",
      "          1       0.99      0.98      0.98       666\n",
      "          2       0.97      0.98      0.98       497\n",
      "          3       0.97      0.99      0.98       310\n",
      "\n",
      "avg / total       0.98      0.98      0.98      1888\n",
      "\n"
     ]
    }
   ],
   "source": [
    "from sklearn.linear_model import SGDClassifier\n",
    "\n",
    "sgd = Pipeline([('vect', CountVectorizer(max_df=1200,min_df=4,ngram_range=(1, 2), tokenizer=tokenize_and_stem)),\n",
    "               ('tfidf', TfidfTransformer(norm='l2',)),\n",
    "                ('clf', SGDClassifier(loss='hinge', penalty='l2',alpha=1e-4, random_state=101, max_iter=5, tol=None)),\n",
    "               ])\n",
    "sgd.fit(X_train, y_train)\n",
    "y_pred = sgd.predict(X_test)\n",
    "print('accuracy %s' % accuracy_score(y_pred, y_test))\n",
    "print(classification_report(y_test, y_pred))"
   ]
  },
  {
   "cell_type": "code",
   "execution_count": null,
   "metadata": {},
   "outputs": [],
   "source": []
  },
  {
   "cell_type": "code",
   "execution_count": null,
   "metadata": {},
   "outputs": [],
   "source": []
  },
  {
   "cell_type": "code",
   "execution_count": 31,
   "metadata": {},
   "outputs": [
    {
     "name": "stdout",
     "output_type": "stream",
     "text": [
      "accuracy 0.9798728813559322\n",
      "             precision    recall  f1-score   support\n",
      "\n",
      "          0       0.98      0.97      0.97       415\n",
      "          1       0.99      0.98      0.98       666\n",
      "          2       0.98      0.98      0.98       497\n",
      "          3       0.97      0.99      0.98       310\n",
      "\n",
      "avg / total       0.98      0.98      0.98      1888\n",
      "\n"
     ]
    }
   ],
   "source": [
    "from sklearn.linear_model import LogisticRegression\n",
    "\n",
    "logreg = Pipeline([('vect', CountVectorizer(max_df=1000,min_df=5,ngram_range=(1, 3))),\n",
    "               ('tfidf', TfidfTransformer(norm='l2',)),\n",
    "                ('clf', LogisticRegression(n_jobs=1, C=1e4)),\n",
    "               ])\n",
    "logreg.fit(X_train, y_train)\n",
    "y_pred = logreg.predict(X_test)\n",
    "print('accuracy %s' % accuracy_score(y_pred, y_test))\n",
    "print(classification_report(y_test, y_pred))"
   ]
  },
  {
   "cell_type": "code",
   "execution_count": 32,
   "metadata": {},
   "outputs": [],
   "source": [
    "from sklearn.naive_bayes import MultinomialNB\n",
    "from sklearn.metrics import classification_report\n",
    "\n"
   ]
  },
  {
   "cell_type": "code",
   "execution_count": 33,
   "metadata": {},
   "outputs": [
    {
     "name": "stdout",
     "output_type": "stream",
     "text": [
      "accuracy 0.9819915254237288\n",
      "             precision    recall  f1-score   support\n",
      "\n",
      "          0       0.99      0.97      0.98       415\n",
      "          1       0.99      0.98      0.99       666\n",
      "          2       0.98      0.98      0.98       497\n",
      "          3       0.97      0.99      0.98       310\n",
      "\n",
      "avg / total       0.98      0.98      0.98      1888\n",
      "\n"
     ]
    }
   ],
   "source": [
    "from sklearn.ensemble import GradientBoostingClassifier\n",
    "from sklearn.ensemble import BaggingClassifier\n",
    "from sklearn import tree\n",
    "from sklearn.ensemble import RandomForestClassifier\n",
    "\n",
    "model = Pipeline([('vect', CountVectorizer(max_df=1000,min_df=5,ngram_range=(1, 3),max_features=20000)),\n",
    "               ('tfidf', TfidfTransformer(norm='l2')),\n",
    "               ('clf', SGDClassifier(loss='hinge', penalty='l2',alpha=1e-4, random_state=101, max_iter=6,  tol=None)),\n",
    "              ])\n",
    "model.fit(X_train, y_train)\n",
    "bagging_preds = model.predict(X_test)\n",
    "\n",
    "print('accuracy %s' % accuracy_score(bagging_preds, y_test))\n",
    "print(classification_report(y_test, bagging_preds))"
   ]
  },
  {
   "cell_type": "code",
   "execution_count": 34,
   "metadata": {},
   "outputs": [],
   "source": [
    "df_test = pd.DataFrame.copy(Test)"
   ]
  },
  {
   "cell_type": "code",
   "execution_count": null,
   "metadata": {},
   "outputs": [],
   "source": []
  },
  {
   "cell_type": "code",
   "execution_count": 83,
   "metadata": {},
   "outputs": [
    {
     "name": "stdout",
     "output_type": "stream",
     "text": [
      "accuracy 0.9830508474576272\n",
      "             precision    recall  f1-score   support\n",
      "\n",
      "          0       0.98      0.97      0.97       415\n",
      "          1       0.99      0.99      0.99       666\n",
      "          2       0.99      0.98      0.99       497\n",
      "          3       0.97      0.99      0.98       310\n",
      "\n",
      "avg / total       0.98      0.98      0.98      1888\n",
      "\n"
     ]
    }
   ],
   "source": [
    "model = Pipeline([('vect', CountVectorizer(ngram_range=(1, 2),max_features=250000)),\n",
    "               ('tfidf', TfidfTransformer(norm='l2')),\n",
    "               ('bc', BaggingClassifier(SGDClassifier(loss='hinge', penalty='l2',alpha=1e-4, l1_ratio=0.05,random_state=101, max_iter=5,  tol=None,class_weight='balanced'))),\n",
    "               ])\n",
    "model.fit(X_train, y_train)\n",
    "bagging_preds = model.predict(X_test)\n",
    "\n",
    "print('accuracy %s' % accuracy_score(bagging_preds, y_test))\n",
    "print(classification_report(y_test, bagging_preds))"
   ]
  },
  {
   "cell_type": "code",
   "execution_count": 57,
   "metadata": {},
   "outputs": [
    {
     "data": {
      "text/plain": [
       "{'base_estimator': SGDClassifier(alpha=0.0001, average=False, class_weight='balanced',\n",
       "        epsilon=0.1, eta0=0.0, fit_intercept=True, l1_ratio=0.15,\n",
       "        learning_rate='optimal', loss='hinge', max_iter=5, n_iter=None,\n",
       "        n_jobs=1, penalty='l2', power_t=0.5, random_state=101, shuffle=True,\n",
       "        tol=None, verbose=0, warm_start=False),\n",
       " 'base_estimator__alpha': 0.0001,\n",
       " 'base_estimator__average': False,\n",
       " 'base_estimator__class_weight': 'balanced',\n",
       " 'base_estimator__epsilon': 0.1,\n",
       " 'base_estimator__eta0': 0.0,\n",
       " 'base_estimator__fit_intercept': True,\n",
       " 'base_estimator__l1_ratio': 0.15,\n",
       " 'base_estimator__learning_rate': 'optimal',\n",
       " 'base_estimator__loss': 'hinge',\n",
       " 'base_estimator__max_iter': 5,\n",
       " 'base_estimator__n_iter': None,\n",
       " 'base_estimator__n_jobs': 1,\n",
       " 'base_estimator__penalty': 'l2',\n",
       " 'base_estimator__power_t': 0.5,\n",
       " 'base_estimator__random_state': 101,\n",
       " 'base_estimator__shuffle': True,\n",
       " 'base_estimator__tol': None,\n",
       " 'base_estimator__verbose': 0,\n",
       " 'base_estimator__warm_start': False,\n",
       " 'bootstrap': True,\n",
       " 'bootstrap_features': False,\n",
       " 'max_features': 1.0,\n",
       " 'max_samples': 1.0,\n",
       " 'n_estimators': 10,\n",
       " 'n_jobs': 1,\n",
       " 'oob_score': False,\n",
       " 'random_state': None,\n",
       " 'verbose': 0,\n",
       " 'warm_start': False}"
      ]
     },
     "execution_count": 57,
     "metadata": {},
     "output_type": "execute_result"
    }
   ],
   "source": [
    "model.named_steps['bc'].get_params()"
   ]
  },
  {
   "cell_type": "code",
   "execution_count": 64,
   "metadata": {},
   "outputs": [],
   "source": [
    "param_grid = {\n",
    "    'bc__base_estimator__loss': ['log'],\n",
    "    'bc__base_estimator__penalty': ['elasticnet'],\n",
    "    'bc__base_estimator__alpha': [10 ** x for x in range(-6, 1)],\n",
    "    'bc__base_estimator__l1_ratio': [0, 0.05, 0.1, 0.2, 0.5, 0.8, 0.9, 0.95, 1],\n",
    "}"
   ]
  },
  {
   "cell_type": "code",
   "execution_count": 69,
   "metadata": {},
   "outputs": [
    {
     "data": {
      "text/plain": [
       "GridSearchCV(cv=5, error_score='raise',\n",
       "       estimator=Pipeline(memory=None,\n",
       "     steps=[('vect', CountVectorizer(analyzer='word', binary=False, decode_error='strict',\n",
       "        dtype=<class 'numpy.int64'>, encoding='utf-8', input='content',\n",
       "        lowercase=True, max_df=1.0, max_features=250000, min_df=1,\n",
       "        ngram_range=(1, 2), preprocessor=None, stop_words=None,\n",
       "        str...estimators=10, n_jobs=1, oob_score=False,\n",
       "         random_state=None, verbose=0, warm_start=False))]),\n",
       "       fit_params=None, iid=True, n_jobs=1,\n",
       "       param_grid={'bc__base_estimator__loss': ['log'], 'bc__base_estimator__penalty': ['elasticnet'], 'bc__base_estimator__alpha': [1e-06, 1e-05, 0.0001, 0.001, 0.01, 0.1, 1], 'bc__base_estimator__l1_ratio': [0, 0.05, 0.1, 0.2, 0.5, 0.8, 0.9, 0.95, 1]},\n",
       "       pre_dispatch='2*n_jobs', refit=True, return_train_score=True,\n",
       "       scoring=None, verbose=0)"
      ]
     },
     "execution_count": 69,
     "metadata": {},
     "output_type": "execute_result"
    }
   ],
   "source": [
    "from sklearn.model_selection import GridSearchCV, cross_val_score, StratifiedKFold\n",
    "grid_search = GridSearchCV(estimator = model, param_grid = param_grid, \n",
    "                          cv = 5, n_jobs = 1, verbose = 0, return_train_score=True)\n",
    "\n",
    "grid_search.fit(X_train,y_train)"
   ]
  },
  {
   "cell_type": "code",
   "execution_count": 37,
   "metadata": {},
   "outputs": [],
   "source": [
    "#pd.DataFrame(ACU,columns=['Alpha','max_iter','Accuracy']).sort_values(by='Accuracy',ascending=False).head(10)"
   ]
  },
  {
   "cell_type": "code",
   "execution_count": 70,
   "metadata": {},
   "outputs": [
    {
     "data": {
      "text/plain": [
       "array([0.998852  , 0.99854297, 0.99841063, 0.99845482, 0.9985871 ,\n",
       "       0.99876376, 0.99854296, 0.99818978, 0.99871961, 0.99841057,\n",
       "       0.99823391, 0.99783646, 0.99796894, 0.99699774, 0.99664434,\n",
       "       0.9958054 , 0.99620278, 0.99642348, 0.99395105, 0.99099278,\n",
       "       0.98763699, 0.9807048 , 0.96913631, 0.96251324, 0.96101179,\n",
       "       0.95928944, 0.9596429 , 0.97712819, 0.95023835, 0.94312958,\n",
       "       0.93248838, 0.9044951 , 0.89116031, 0.89080672, 0.89116018,\n",
       "       0.85672157, 0.70857111, 0.49682169, 0.46772569, 0.38714301,\n",
       "       0.36453552, 0.36453552, 0.36453552, 0.36453552, 0.36453552,\n",
       "       0.43120402, 0.36453552, 0.36453552, 0.36453552, 0.36453552,\n",
       "       0.36453552, 0.36453552, 0.36453552, 0.36453552, 0.37406869,\n",
       "       0.36453552, 0.36453552, 0.36453552, 0.36453552, 0.36453552,\n",
       "       0.36453552, 0.36453552, 0.36453552])"
      ]
     },
     "execution_count": 70,
     "metadata": {},
     "output_type": "execute_result"
    }
   ],
   "source": [
    "grid_search.cv_results_['mean_train_score']\n"
   ]
  },
  {
   "cell_type": "code",
   "execution_count": 71,
   "metadata": {},
   "outputs": [
    {
     "data": {
      "text/plain": [
       "array([0.97262451, 0.97492052, 0.97456729, 0.97350759, 0.9724479 ,\n",
       "       0.97262451, 0.97368421, 0.97209467, 0.97085835, 0.97350759,\n",
       "       0.9724479 , 0.97156482, 0.97280113, 0.96997527, 0.97156482,\n",
       "       0.9713882 , 0.97050512, 0.96979866, 0.96873896, 0.9680325 ,\n",
       "       0.96555987, 0.96538326, 0.95902508, 0.95602261, 0.95302013,\n",
       "       0.95319675, 0.9526669 , 0.95796538, 0.94895797, 0.94259979,\n",
       "       0.93270929, 0.90780643, 0.89579654, 0.89579654, 0.89226422,\n",
       "       0.86029671, 0.74514306, 0.54380078, 0.51059696, 0.41151537,\n",
       "       0.3645355 , 0.3645355 , 0.3645355 , 0.3645355 , 0.3645355 ,\n",
       "       0.46114447, 0.3645355 , 0.3645355 , 0.3645355 , 0.3645355 ,\n",
       "       0.3645355 , 0.3645355 , 0.3645355 , 0.3645355 , 0.38361003,\n",
       "       0.3645355 , 0.3645355 , 0.3645355 , 0.3645355 , 0.3645355 ,\n",
       "       0.3645355 , 0.3645355 , 0.3645355 ])"
      ]
     },
     "execution_count": 71,
     "metadata": {},
     "output_type": "execute_result"
    }
   ],
   "source": [
    "grid_search.cv_results_['mean_test_score']\n"
   ]
  },
  {
   "cell_type": "code",
   "execution_count": 72,
   "metadata": {},
   "outputs": [
    {
     "data": {
      "text/plain": [
       "{'bc__base_estimator__alpha': 1e-06,\n",
       " 'bc__base_estimator__l1_ratio': 0.05,\n",
       " 'bc__base_estimator__loss': 'log',\n",
       " 'bc__base_estimator__penalty': 'elasticnet'}"
      ]
     },
     "execution_count": 72,
     "metadata": {},
     "output_type": "execute_result"
    }
   ],
   "source": [
    "grid_search.best_params_\n"
   ]
  },
  {
   "cell_type": "code",
   "execution_count": 82,
   "metadata": {},
   "outputs": [
    {
     "name": "stdout",
     "output_type": "stream",
     "text": [
      "accuracy 0.9835805084745762\n",
      "             precision    recall  f1-score   support\n",
      "\n",
      "          0       0.98      0.97      0.97       415\n",
      "          1       0.99      0.99      0.99       666\n",
      "          2       0.99      0.98      0.98       497\n",
      "          3       0.98      0.99      0.98       310\n",
      "\n",
      "avg / total       0.98      0.98      0.98      1888\n",
      "\n"
     ]
    }
   ],
   "source": [
    "model = Pipeline([('vect', CountVectorizer(ngram_range=(1, 2))),\n",
    "               ('tfidf', TfidfTransformer(norm='l2')),\n",
    "               ('bc', BaggingClassifier(SGDClassifier(loss='hinge', penalty='elasticnet',l1_ratio=0.05,alpha=1e-4, random_state=101, max_iter=5,  tol=None,class_weight='balanced'),n_estimators=300,)),\n",
    "               ])\n",
    "model.fit(X_train, y_train)\n",
    "bagging_preds = model.predict(X_test)\n",
    "\n",
    "print('accuracy %s' % accuracy_score(bagging_preds, y_test))\n",
    "print(classification_report(y_test, bagging_preds))"
   ]
  },
  {
   "cell_type": "code",
   "execution_count": null,
   "metadata": {},
   "outputs": [],
   "source": []
  },
  {
   "cell_type": "code",
   "execution_count": null,
   "metadata": {},
   "outputs": [],
   "source": []
  },
  {
   "cell_type": "code",
   "execution_count": null,
   "metadata": {},
   "outputs": [],
   "source": []
  },
  {
   "cell_type": "code",
   "execution_count": null,
   "metadata": {},
   "outputs": [],
   "source": []
  },
  {
   "cell_type": "code",
   "execution_count": 38,
   "metadata": {},
   "outputs": [
    {
     "data": {
      "text/plain": [
       "Pipeline(memory=None,\n",
       "     steps=[('vect', CountVectorizer(analyzer='word', binary=False, decode_error='strict',\n",
       "        dtype=<class 'numpy.int64'>, encoding='utf-8', input='content',\n",
       "        lowercase=True, max_df=1000, max_features=None, min_df=10,\n",
       "        ngram_range=(1, 2), preprocessor=None, stop_words=None,\n",
       "        str...inear_tf=False, use_idf=True)), ('clf', MultinomialNB(alpha=1.0, class_prior=None, fit_prior=True))])"
      ]
     },
     "execution_count": 38,
     "metadata": {},
     "output_type": "execute_result"
    }
   ],
   "source": [
    "from sklearn.naive_bayes import MultinomialNB\n",
    "\n",
    "nb = Pipeline([('vect', CountVectorizer(max_df=1000,min_df=10,ngram_range=(1, 2))),\n",
    "               ('tfidf', TfidfTransformer(norm='l2')),\n",
    "               ('clf', MultinomialNB()),\n",
    "              ])\n",
    "nb.fit(df['STORY'], df['SECTION'])"
   ]
  },
  {
   "cell_type": "code",
   "execution_count": 39,
   "metadata": {},
   "outputs": [
    {
     "data": {
      "text/plain": [
       "Pipeline(memory=None,\n",
       "     steps=[('vect', CountVectorizer(analyzer='word', binary=False, decode_error='strict',\n",
       "        dtype=<class 'numpy.int64'>, encoding='utf-8', input='content',\n",
       "        lowercase=True, max_df=1000, max_features=None, min_df=10,\n",
       "        ngram_range=(1, 2), preprocessor=None, stop_words=None,\n",
       "        str...y='l2', power_t=0.5, random_state=101, shuffle=True,\n",
       "       tol=None, verbose=0, warm_start=False))])"
      ]
     },
     "execution_count": 39,
     "metadata": {},
     "output_type": "execute_result"
    }
   ],
   "source": [
    "sgd = Pipeline([('vect', CountVectorizer(max_df=1000,min_df=10,ngram_range=(1, 2), tokenizer=tokenize_and_stem)),\n",
    "           ('tfidf', TfidfTransformer(norm='l2',)),\n",
    "            ('clf', SGDClassifier(loss='hinge', penalty='l2',alpha=1e-3, random_state=101, max_iter=5, tol=None)),\n",
    "           ])\n",
    "sgd.fit(df['STORY'], df['SECTION'])"
   ]
  },
  {
   "cell_type": "code",
   "execution_count": 40,
   "metadata": {},
   "outputs": [
    {
     "data": {
      "text/plain": [
       "Pipeline(memory=None,\n",
       "     steps=[('vect', CountVectorizer(analyzer='word', binary=False, decode_error='strict',\n",
       "        dtype=<class 'numpy.int64'>, encoding='utf-8', input='content',\n",
       "        lowercase=True, max_df=1000, max_features=None, min_df=5,\n",
       "        ngram_range=(1, 3), preprocessor=None, stop_words=None,\n",
       "        stri...ty='l2', random_state=None,\n",
       "          solver='liblinear', tol=0.0001, verbose=0, warm_start=False))])"
      ]
     },
     "execution_count": 40,
     "metadata": {},
     "output_type": "execute_result"
    }
   ],
   "source": [
    "from sklearn.linear_model import LogisticRegression\n",
    "\n",
    "logreg = Pipeline([('vect', CountVectorizer(max_df=1000,min_df=5,ngram_range=(1, 3))),\n",
    "               ('tfidf', TfidfTransformer(norm='l2',)),\n",
    "                ('clf', LogisticRegression(n_jobs=1, C=1e4)),\n",
    "               ])\n",
    "logreg.fit(df['STORY'], df['SECTION'])\n"
   ]
  },
  {
   "cell_type": "code",
   "execution_count": 41,
   "metadata": {},
   "outputs": [
    {
     "data": {
      "text/plain": [
       "Pipeline(memory=None,\n",
       "     steps=[('vect', CountVectorizer(analyzer='word', binary=False, decode_error='strict',\n",
       "        dtype=<class 'numpy.int64'>, encoding='utf-8', input='content',\n",
       "        lowercase=True, max_df=1.0, max_features=None, min_df=1,\n",
       "        ngram_range=(1, 2), preprocessor=None, stop_words=None,\n",
       "        strip...estimators=10, n_jobs=1, oob_score=False,\n",
       "         random_state=None, verbose=0, warm_start=False))])"
      ]
     },
     "execution_count": 41,
     "metadata": {},
     "output_type": "execute_result"
    }
   ],
   "source": [
    "model_sgd = Pipeline([('vect', CountVectorizer(ngram_range=(1, 2))),\n",
    "               ('tfidf', TfidfTransformer(norm='l2')),\n",
    "               ('bc', BaggingClassifier(SGDClassifier(loss='hinge', penalty='l2',alpha=1e-4, random_state=101, max_iter=5,  tol=None))),\n",
    "              ])\n",
    "model_sgd.fit(df['STORY'], df['SECTION'])"
   ]
  },
  {
   "cell_type": "code",
   "execution_count": null,
   "metadata": {},
   "outputs": [],
   "source": []
  },
  {
   "cell_type": "code",
   "execution_count": 42,
   "metadata": {},
   "outputs": [],
   "source": [
    "df_test['STORY'] = df_test['STORY'].apply(remove_apostrophe)\n",
    "df_test['STORY'] = df_test['STORY'].apply(remove_punctuation)\n",
    "df_test['STORY'] = df_test['STORY'].apply(convert_numbers)\n",
    "df_test['STORY'] = df_test['STORY'].apply(clean)"
   ]
  },
  {
   "cell_type": "code",
   "execution_count": 43,
   "metadata": {},
   "outputs": [],
   "source": [
    "def fix_backslash_n(string):\n",
    "    string=string.replace('\\n','')\n",
    "    #while '  ' in string:\n",
    "        #string.replace('  ',' ')\n",
    "    return string\n",
    "\n",
    "def remove_extra(string):\n",
    "    \n",
    "    if 'story has been published from a wire agency feed without modifications to the text. Only the headline has been changed.' in string :\n",
    "        string.replace('story has been published from a wire agency feed without modifications to the text. Only the headline has been changed.',' ')\n",
    "    return string\n",
    "\n",
    "df_test['STORY'] =df_test['STORY'].apply(fix_backslash_n)\n",
    "df_test['STORY'] =df_test['STORY'].apply(remove_extra)\n"
   ]
  },
  {
   "cell_type": "code",
   "execution_count": 44,
   "metadata": {},
   "outputs": [],
   "source": [
    "preds_sgd_bagging = model_sgd.predict(df_test['STORY'])"
   ]
  },
  {
   "cell_type": "code",
   "execution_count": 45,
   "metadata": {},
   "outputs": [],
   "source": [
    "preds_sgd = sgd.predict(df_test['STORY'])"
   ]
  },
  {
   "cell_type": "code",
   "execution_count": 46,
   "metadata": {},
   "outputs": [],
   "source": [
    "preds_nb = nb.predict(df_test['STORY'])"
   ]
  },
  {
   "cell_type": "code",
   "execution_count": 47,
   "metadata": {},
   "outputs": [],
   "source": [
    "preds_logreg = logreg.predict(df_test['STORY'])"
   ]
  },
  {
   "cell_type": "code",
   "execution_count": 48,
   "metadata": {},
   "outputs": [],
   "source": [
    "preds_df = pd.DataFrame(preds_sgd_bagging,columns=['SECTION'])"
   ]
  },
  {
   "cell_type": "code",
   "execution_count": 49,
   "metadata": {},
   "outputs": [],
   "source": [
    "#preds_df['SECTION'].to_excel('preds_7_sgd_bagging.xlsx')"
   ]
  },
  {
   "cell_type": "code",
   "execution_count": null,
   "metadata": {},
   "outputs": [],
   "source": []
  }
 ],
 "metadata": {
  "kernelspec": {
   "display_name": "Python 3",
   "language": "python",
   "name": "python3"
  },
  "language_info": {
   "codemirror_mode": {
    "name": "ipython",
    "version": 3
   },
   "file_extension": ".py",
   "mimetype": "text/x-python",
   "name": "python",
   "nbconvert_exporter": "python",
   "pygments_lexer": "ipython3",
   "version": "3.6.4"
  }
 },
 "nbformat": 4,
 "nbformat_minor": 2
}
