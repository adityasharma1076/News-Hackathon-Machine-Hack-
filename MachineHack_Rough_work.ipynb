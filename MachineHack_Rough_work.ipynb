{
 "cells": [
  {
   "cell_type": "code",
   "execution_count": 1,
   "metadata": {},
   "outputs": [],
   "source": [
    "import bs4\n",
    "import requests\n",
    "import pandas as pd\n",
    "import numpy as np"
   ]
  },
  {
   "cell_type": "code",
   "execution_count": 2,
   "metadata": {},
   "outputs": [],
   "source": [
    "Train = pd.read_excel('Data_Train.xlsx')"
   ]
  },
  {
   "cell_type": "code",
   "execution_count": 3,
   "metadata": {},
   "outputs": [],
   "source": [
    "Test = pd.read_excel('Data_Test.xlsx')"
   ]
  },
  {
   "cell_type": "code",
   "execution_count": 4,
   "metadata": {},
   "outputs": [
    {
     "name": "stdout",
     "output_type": "stream",
     "text": [
      "<class 'pandas.core.frame.DataFrame'>\n",
      "RangeIndex: 7628 entries, 0 to 7627\n",
      "Data columns (total 2 columns):\n",
      "STORY      7628 non-null object\n",
      "SECTION    7628 non-null int64\n",
      "dtypes: int64(1), object(1)\n",
      "memory usage: 119.3+ KB\n"
     ]
    }
   ],
   "source": [
    "Train.info()"
   ]
  },
  {
   "cell_type": "code",
   "execution_count": 5,
   "metadata": {},
   "outputs": [
    {
     "data": {
      "text/plain": [
       "(7628, 2)"
      ]
     },
     "execution_count": 5,
     "metadata": {},
     "output_type": "execute_result"
    }
   ],
   "source": [
    "Train.shape"
   ]
  },
  {
   "cell_type": "code",
   "execution_count": null,
   "metadata": {},
   "outputs": [],
   "source": []
  },
  {
   "cell_type": "code",
   "execution_count": 6,
   "metadata": {},
   "outputs": [],
   "source": [
    "#df = Train.drop_duplicates(subset='STORY')\n",
    "df = Train.drop_duplicates()\n"
   ]
  },
  {
   "cell_type": "code",
   "execution_count": 7,
   "metadata": {},
   "outputs": [
    {
     "data": {
      "text/plain": [
       "'This story has been published from a wire agency feed without modifications to the text. Only the headline has been changed'"
      ]
     },
     "execution_count": 7,
     "metadata": {},
     "output_type": "execute_result"
    }
   ],
   "source": [
    "Train.loc[24]['STORY']"
   ]
  },
  {
   "cell_type": "code",
   "execution_count": 8,
   "metadata": {},
   "outputs": [
    {
     "data": {
      "text/html": [
       "<div>\n",
       "<style scoped>\n",
       "    .dataframe tbody tr th:only-of-type {\n",
       "        vertical-align: middle;\n",
       "    }\n",
       "\n",
       "    .dataframe tbody tr th {\n",
       "        vertical-align: top;\n",
       "    }\n",
       "\n",
       "    .dataframe thead th {\n",
       "        text-align: right;\n",
       "    }\n",
       "</style>\n",
       "<table border=\"1\" class=\"dataframe\">\n",
       "  <thead>\n",
       "    <tr style=\"text-align: right;\">\n",
       "      <th></th>\n",
       "      <th>STORY</th>\n",
       "      <th>SECTION</th>\n",
       "    </tr>\n",
       "  </thead>\n",
       "  <tbody>\n",
       "    <tr>\n",
       "      <th>1</th>\n",
       "      <td>How formidable is the opposition alliance amon...</td>\n",
       "      <td>0</td>\n",
       "    </tr>\n",
       "    <tr>\n",
       "      <th>24</th>\n",
       "      <td>This story has been published from a wire agen...</td>\n",
       "      <td>0</td>\n",
       "    </tr>\n",
       "    <tr>\n",
       "      <th>26</th>\n",
       "      <td>The statements in which Yeddyurappa says that ...</td>\n",
       "      <td>0</td>\n",
       "    </tr>\n",
       "    <tr>\n",
       "      <th>27</th>\n",
       "      <td>As NDA seeks re-election, agriculture will for...</td>\n",
       "      <td>0</td>\n",
       "    </tr>\n",
       "    <tr>\n",
       "      <th>28</th>\n",
       "      <td>Yeddyurappa said the IAF air strikes would ben...</td>\n",
       "      <td>0</td>\n",
       "    </tr>\n",
       "    <tr>\n",
       "      <th>33</th>\n",
       "      <td>More than half-a-dozen massive Modi cutouts, a...</td>\n",
       "      <td>0</td>\n",
       "    </tr>\n",
       "    <tr>\n",
       "      <th>40</th>\n",
       "      <td>At the same time, a newly minted National-Conf...</td>\n",
       "      <td>0</td>\n",
       "    </tr>\n",
       "    <tr>\n",
       "      <th>43</th>\n",
       "      <td>Given the current climate in the state, will t...</td>\n",
       "      <td>0</td>\n",
       "    </tr>\n",
       "    <tr>\n",
       "      <th>44</th>\n",
       "      <td>Among all states the most staggered polls are ...</td>\n",
       "      <td>0</td>\n",
       "    </tr>\n",
       "    <tr>\n",
       "      <th>49</th>\n",
       "      <td>“Thanks Hon. HM Sh. @rajnathsingh ji for the u...</td>\n",
       "      <td>0</td>\n",
       "    </tr>\n",
       "    <tr>\n",
       "      <th>60</th>\n",
       "      <td>BJP’s state president and party’s candidate fr...</td>\n",
       "      <td>0</td>\n",
       "    </tr>\n",
       "    <tr>\n",
       "      <th>67</th>\n",
       "      <td>How does the BJP-Shiv Sena in Maharashtra batt...</td>\n",
       "      <td>0</td>\n",
       "    </tr>\n",
       "    <tr>\n",
       "      <th>68</th>\n",
       "      <td>The grand old party has also decided to boycot...</td>\n",
       "      <td>0</td>\n",
       "    </tr>\n",
       "    <tr>\n",
       "      <th>71</th>\n",
       "      <td>The demand for statehood has been a key part o...</td>\n",
       "      <td>0</td>\n",
       "    </tr>\n",
       "    <tr>\n",
       "      <th>72</th>\n",
       "      <td>Prime Minister Narendra Modi with Bihar chief ...</td>\n",
       "      <td>0</td>\n",
       "    </tr>\n",
       "    <tr>\n",
       "      <th>97</th>\n",
       "      <td>The fate of 961 candidates, including Union mi...</td>\n",
       "      <td>0</td>\n",
       "    </tr>\n",
       "    <tr>\n",
       "      <th>100</th>\n",
       "      <td>The Congress named a relatively unknown B.K.Ha...</td>\n",
       "      <td>0</td>\n",
       "    </tr>\n",
       "    <tr>\n",
       "      <th>103</th>\n",
       "      <td>“Some people are asking me what I will do with...</td>\n",
       "      <td>0</td>\n",
       "    </tr>\n",
       "    <tr>\n",
       "      <th>115</th>\n",
       "      <td>\"If it so happens that I have to get elected t...</td>\n",
       "      <td>0</td>\n",
       "    </tr>\n",
       "    <tr>\n",
       "      <th>125</th>\n",
       "      <td>It said states like Assam, Bihar, Uttar Prades...</td>\n",
       "      <td>0</td>\n",
       "    </tr>\n",
       "    <tr>\n",
       "      <th>129</th>\n",
       "      <td>In a televised address, the Prime Minister on ...</td>\n",
       "      <td>0</td>\n",
       "    </tr>\n",
       "    <tr>\n",
       "      <th>134</th>\n",
       "      <td>Yeddyurappa joining the long list of loose tal...</td>\n",
       "      <td>0</td>\n",
       "    </tr>\n",
       "    <tr>\n",
       "      <th>136</th>\n",
       "      <td>On being asked why the report is silent on the...</td>\n",
       "      <td>0</td>\n",
       "    </tr>\n",
       "    <tr>\n",
       "      <th>137</th>\n",
       "      <td>“JMM president Shibu Soren (known as Guruji in...</td>\n",
       "      <td>0</td>\n",
       "    </tr>\n",
       "    <tr>\n",
       "      <th>146</th>\n",
       "      <td>In a video shared by Deora, former Union minis...</td>\n",
       "      <td>0</td>\n",
       "    </tr>\n",
       "    <tr>\n",
       "      <th>148</th>\n",
       "      <td>Congress says convinced Tumkur MP S.P. Muddaha...</td>\n",
       "      <td>0</td>\n",
       "    </tr>\n",
       "    <tr>\n",
       "      <th>158</th>\n",
       "      <td>Random matching of the chits and numbers of vo...</td>\n",
       "      <td>0</td>\n",
       "    </tr>\n",
       "    <tr>\n",
       "      <th>177</th>\n",
       "      <td>Thirty-eight-year-old Meena P., who runs a kir...</td>\n",
       "      <td>0</td>\n",
       "    </tr>\n",
       "    <tr>\n",
       "      <th>178</th>\n",
       "      <td>‘We’ve reformed MNREGA... infra required for v...</td>\n",
       "      <td>0</td>\n",
       "    </tr>\n",
       "    <tr>\n",
       "      <th>191</th>\n",
       "      <td>BJP seen integrating 'Jai Jawan', 'Jai Kisaan'...</td>\n",
       "      <td>0</td>\n",
       "    </tr>\n",
       "    <tr>\n",
       "      <th>...</th>\n",
       "      <td>...</td>\n",
       "      <td>...</td>\n",
       "    </tr>\n",
       "    <tr>\n",
       "      <th>7526</th>\n",
       "      <td>The move signals a tacit understanding between...</td>\n",
       "      <td>0</td>\n",
       "    </tr>\n",
       "    <tr>\n",
       "      <th>7530</th>\n",
       "      <td>Some more seat losses are expected elsewhere, ...</td>\n",
       "      <td>0</td>\n",
       "    </tr>\n",
       "    <tr>\n",
       "      <th>7533</th>\n",
       "      <td>Achievements of PM Modi, the nation’s growth a...</td>\n",
       "      <td>0</td>\n",
       "    </tr>\n",
       "    <tr>\n",
       "      <th>7534</th>\n",
       "      <td>Voters need not know the source of donations t...</td>\n",
       "      <td>0</td>\n",
       "    </tr>\n",
       "    <tr>\n",
       "      <th>7539</th>\n",
       "      <td>Indian states that have low per-capita incomes...</td>\n",
       "      <td>0</td>\n",
       "    </tr>\n",
       "    <tr>\n",
       "      <th>7542</th>\n",
       "      <td>“This dramatically reduces its ability to spre...</td>\n",
       "      <td>0</td>\n",
       "    </tr>\n",
       "    <tr>\n",
       "      <th>7543</th>\n",
       "      <td>In the ‘Rythu Bandhu’ input subsidy scheme , l...</td>\n",
       "      <td>0</td>\n",
       "    </tr>\n",
       "    <tr>\n",
       "      <th>7546</th>\n",
       "      <td>“The “green light\" shown in the clipping was f...</td>\n",
       "      <td>0</td>\n",
       "    </tr>\n",
       "    <tr>\n",
       "      <th>7547</th>\n",
       "      <td>Chief Election Commissioner Sunil Arora along ...</td>\n",
       "      <td>0</td>\n",
       "    </tr>\n",
       "    <tr>\n",
       "      <th>7548</th>\n",
       "      <td>“Yes, we have learnt that a few more of our ML...</td>\n",
       "      <td>0</td>\n",
       "    </tr>\n",
       "    <tr>\n",
       "      <th>7555</th>\n",
       "      <td>In 2014, the BJP won all the 26 seats in Gujar...</td>\n",
       "      <td>0</td>\n",
       "    </tr>\n",
       "    <tr>\n",
       "      <th>7560</th>\n",
       "      <td>The overall turnout in the previous Lok Sabha ...</td>\n",
       "      <td>0</td>\n",
       "    </tr>\n",
       "    <tr>\n",
       "      <th>7563</th>\n",
       "      <td>(From left) Shiv Sena chief Uddhav Thackeray, ...</td>\n",
       "      <td>0</td>\n",
       "    </tr>\n",
       "    <tr>\n",
       "      <th>7565</th>\n",
       "      <td>Union minister Dharmendra Pradhan says BJP in ...</td>\n",
       "      <td>0</td>\n",
       "    </tr>\n",
       "    <tr>\n",
       "      <th>7571</th>\n",
       "      <td>Mohan Babu has reportedly not been on good ter...</td>\n",
       "      <td>0</td>\n",
       "    </tr>\n",
       "    <tr>\n",
       "      <th>7573</th>\n",
       "      <td>“This scheme will be implemented in a phased m...</td>\n",
       "      <td>0</td>\n",
       "    </tr>\n",
       "    <tr>\n",
       "      <th>7574</th>\n",
       "      <td>From Gujarat to Bengal, Mint is tracing the st...</td>\n",
       "      <td>0</td>\n",
       "    </tr>\n",
       "    <tr>\n",
       "      <th>7578</th>\n",
       "      <td>'The way my father (film star Dharmendra) was ...</td>\n",
       "      <td>0</td>\n",
       "    </tr>\n",
       "    <tr>\n",
       "      <th>7580</th>\n",
       "      <td>Prime Minister Narendra Modi said he had asked...</td>\n",
       "      <td>0</td>\n",
       "    </tr>\n",
       "    <tr>\n",
       "      <th>7586</th>\n",
       "      <td>Modi said his government crushed the ego of Pa...</td>\n",
       "      <td>0</td>\n",
       "    </tr>\n",
       "    <tr>\n",
       "      <th>7590</th>\n",
       "      <td>“The opposition parties cannot unite in West B...</td>\n",
       "      <td>0</td>\n",
       "    </tr>\n",
       "    <tr>\n",
       "      <th>7594</th>\n",
       "      <td>In an online opinion poll conducted by Northea...</td>\n",
       "      <td>0</td>\n",
       "    </tr>\n",
       "    <tr>\n",
       "      <th>7597</th>\n",
       "      <td>But its delayed decisions so far in Karnataka ...</td>\n",
       "      <td>0</td>\n",
       "    </tr>\n",
       "    <tr>\n",
       "      <th>7598</th>\n",
       "      <td>“TDP as a party and ideology have gotten sidel...</td>\n",
       "      <td>0</td>\n",
       "    </tr>\n",
       "    <tr>\n",
       "      <th>7602</th>\n",
       "      <td>Aparajita Sarangi took voluntary retirement wh...</td>\n",
       "      <td>0</td>\n",
       "    </tr>\n",
       "    <tr>\n",
       "      <th>7606</th>\n",
       "      <td>Lok Sabha elections 2019: Fifth phase of votin...</td>\n",
       "      <td>0</td>\n",
       "    </tr>\n",
       "    <tr>\n",
       "      <th>7613</th>\n",
       "      <td>While Mohan Babu is not considered to be a pol...</td>\n",
       "      <td>0</td>\n",
       "    </tr>\n",
       "    <tr>\n",
       "      <th>7619</th>\n",
       "      <td>A BJD supporter in Puri. Congress leaders as w...</td>\n",
       "      <td>0</td>\n",
       "    </tr>\n",
       "    <tr>\n",
       "      <th>7623</th>\n",
       "      <td>Karnataka has been a Congress bastion, but it ...</td>\n",
       "      <td>0</td>\n",
       "    </tr>\n",
       "    <tr>\n",
       "      <th>7626</th>\n",
       "      <td>The state, which has had an uneasy relationshi...</td>\n",
       "      <td>0</td>\n",
       "    </tr>\n",
       "  </tbody>\n",
       "</table>\n",
       "<p>1673 rows × 2 columns</p>\n",
       "</div>"
      ],
      "text/plain": [
       "                                                  STORY  SECTION\n",
       "1     How formidable is the opposition alliance amon...        0\n",
       "24    This story has been published from a wire agen...        0\n",
       "26    The statements in which Yeddyurappa says that ...        0\n",
       "27    As NDA seeks re-election, agriculture will for...        0\n",
       "28    Yeddyurappa said the IAF air strikes would ben...        0\n",
       "33    More than half-a-dozen massive Modi cutouts, a...        0\n",
       "40    At the same time, a newly minted National-Conf...        0\n",
       "43    Given the current climate in the state, will t...        0\n",
       "44    Among all states the most staggered polls are ...        0\n",
       "49    “Thanks Hon. HM Sh. @rajnathsingh ji for the u...        0\n",
       "60    BJP’s state president and party’s candidate fr...        0\n",
       "67    How does the BJP-Shiv Sena in Maharashtra batt...        0\n",
       "68    The grand old party has also decided to boycot...        0\n",
       "71    The demand for statehood has been a key part o...        0\n",
       "72    Prime Minister Narendra Modi with Bihar chief ...        0\n",
       "97    The fate of 961 candidates, including Union mi...        0\n",
       "100   The Congress named a relatively unknown B.K.Ha...        0\n",
       "103   “Some people are asking me what I will do with...        0\n",
       "115   \"If it so happens that I have to get elected t...        0\n",
       "125   It said states like Assam, Bihar, Uttar Prades...        0\n",
       "129   In a televised address, the Prime Minister on ...        0\n",
       "134   Yeddyurappa joining the long list of loose tal...        0\n",
       "136   On being asked why the report is silent on the...        0\n",
       "137   “JMM president Shibu Soren (known as Guruji in...        0\n",
       "146   In a video shared by Deora, former Union minis...        0\n",
       "148   Congress says convinced Tumkur MP S.P. Muddaha...        0\n",
       "158   Random matching of the chits and numbers of vo...        0\n",
       "177   Thirty-eight-year-old Meena P., who runs a kir...        0\n",
       "178   ‘We’ve reformed MNREGA... infra required for v...        0\n",
       "191   BJP seen integrating 'Jai Jawan', 'Jai Kisaan'...        0\n",
       "...                                                 ...      ...\n",
       "7526  The move signals a tacit understanding between...        0\n",
       "7530  Some more seat losses are expected elsewhere, ...        0\n",
       "7533  Achievements of PM Modi, the nation’s growth a...        0\n",
       "7534  Voters need not know the source of donations t...        0\n",
       "7539  Indian states that have low per-capita incomes...        0\n",
       "7542  “This dramatically reduces its ability to spre...        0\n",
       "7543  In the ‘Rythu Bandhu’ input subsidy scheme , l...        0\n",
       "7546  “The “green light\" shown in the clipping was f...        0\n",
       "7547  Chief Election Commissioner Sunil Arora along ...        0\n",
       "7548  “Yes, we have learnt that a few more of our ML...        0\n",
       "7555  In 2014, the BJP won all the 26 seats in Gujar...        0\n",
       "7560  The overall turnout in the previous Lok Sabha ...        0\n",
       "7563  (From left) Shiv Sena chief Uddhav Thackeray, ...        0\n",
       "7565  Union minister Dharmendra Pradhan says BJP in ...        0\n",
       "7571  Mohan Babu has reportedly not been on good ter...        0\n",
       "7573  “This scheme will be implemented in a phased m...        0\n",
       "7574  From Gujarat to Bengal, Mint is tracing the st...        0\n",
       "7578  'The way my father (film star Dharmendra) was ...        0\n",
       "7580  Prime Minister Narendra Modi said he had asked...        0\n",
       "7586  Modi said his government crushed the ego of Pa...        0\n",
       "7590  “The opposition parties cannot unite in West B...        0\n",
       "7594  In an online opinion poll conducted by Northea...        0\n",
       "7597  But its delayed decisions so far in Karnataka ...        0\n",
       "7598  “TDP as a party and ideology have gotten sidel...        0\n",
       "7602  Aparajita Sarangi took voluntary retirement wh...        0\n",
       "7606  Lok Sabha elections 2019: Fifth phase of votin...        0\n",
       "7613  While Mohan Babu is not considered to be a pol...        0\n",
       "7619  A BJD supporter in Puri. Congress leaders as w...        0\n",
       "7623  Karnataka has been a Congress bastion, but it ...        0\n",
       "7626  The state, which has had an uneasy relationshi...        0\n",
       "\n",
       "[1673 rows x 2 columns]"
      ]
     },
     "execution_count": 8,
     "metadata": {},
     "output_type": "execute_result"
    }
   ],
   "source": [
    "df[df['SECTION']==0]"
   ]
  },
  {
   "cell_type": "code",
   "execution_count": 9,
   "metadata": {},
   "outputs": [
    {
     "name": "stderr",
     "output_type": "stream",
     "text": [
      "C:\\Users\\drago\\Anaconda3\\lib\\site-packages\\ipykernel_launcher.py:5: SettingWithCopyWarning: \n",
      "A value is trying to be set on a copy of a slice from a DataFrame.\n",
      "Try using .loc[row_indexer,col_indexer] = value instead\n",
      "\n",
      "See the caveats in the documentation: http://pandas.pydata.org/pandas-docs/stable/indexing.html#indexing-view-versus-copy\n",
      "  \"\"\"\n"
     ]
    }
   ],
   "source": [
    "def get_len(x):\n",
    "    length = len(x)\n",
    "    \n",
    "    return length\n",
    "df['Length'] = df['STORY'].apply(get_len)"
   ]
  },
  {
   "cell_type": "code",
   "execution_count": 10,
   "metadata": {},
   "outputs": [],
   "source": [
    "import seaborn as sns\n"
   ]
  },
  {
   "cell_type": "code",
   "execution_count": 11,
   "metadata": {},
   "outputs": [
    {
     "data": {
      "text/plain": [
       "<matplotlib.axes._subplots.AxesSubplot at 0x23a2ae44d30>"
      ]
     },
     "execution_count": 11,
     "metadata": {},
     "output_type": "execute_result"
    },
    {
     "data": {
      "image/png": "[encoded data removed]",
      "text/plain": [
       "<matplotlib.figure.Figure at 0x23a2ae446d8>"
      ]
     },
     "metadata": {},
     "output_type": "display_data"
    }
   ],
   "source": [
    "sns.distplot(df['Length'])"
   ]
  },
  {
   "cell_type": "code",
   "execution_count": null,
   "metadata": {},
   "outputs": [],
   "source": []
  },
  {
   "cell_type": "code",
   "execution_count": 12,
   "metadata": {},
   "outputs": [
    {
     "data": {
      "text/html": [
       "<div>\n",
       "<style scoped>\n",
       "    .dataframe tbody tr th:only-of-type {\n",
       "        vertical-align: middle;\n",
       "    }\n",
       "\n",
       "    .dataframe tbody tr th {\n",
       "        vertical-align: top;\n",
       "    }\n",
       "\n",
       "    .dataframe thead th {\n",
       "        text-align: right;\n",
       "    }\n",
       "</style>\n",
       "<table border=\"1\" class=\"dataframe\">\n",
       "  <thead>\n",
       "    <tr style=\"text-align: right;\">\n",
       "      <th></th>\n",
       "      <th>STORY</th>\n",
       "      <th>SECTION</th>\n",
       "      <th>Length</th>\n",
       "    </tr>\n",
       "  </thead>\n",
       "  <tbody>\n",
       "    <tr>\n",
       "      <th>6946</th>\n",
       "      <td>The actor said, “A person like me who has neve...</td>\n",
       "      <td>2</td>\n",
       "      <td>100</td>\n",
       "    </tr>\n",
       "    <tr>\n",
       "      <th>5610</th>\n",
       "      <td>Having the chance to reimagine Pinhead and the...</td>\n",
       "      <td>2</td>\n",
       "      <td>100</td>\n",
       "    </tr>\n",
       "    <tr>\n",
       "      <th>1470</th>\n",
       "      <td>According to sources, it had 17 crore footfall...</td>\n",
       "      <td>2</td>\n",
       "      <td>100</td>\n",
       "    </tr>\n",
       "    <tr>\n",
       "      <th>3410</th>\n",
       "      <td>It’s hard to remember who any of the cast memb...</td>\n",
       "      <td>2</td>\n",
       "      <td>100</td>\n",
       "    </tr>\n",
       "    <tr>\n",
       "      <th>4723</th>\n",
       "      <td>The movie is led by Margot Robbie’s Harley Qui...</td>\n",
       "      <td>2</td>\n",
       "      <td>100</td>\n",
       "    </tr>\n",
       "    <tr>\n",
       "      <th>2671</th>\n",
       "      <td>(But) things have changed today in terms of ac...</td>\n",
       "      <td>2</td>\n",
       "      <td>100</td>\n",
       "    </tr>\n",
       "    <tr>\n",
       "      <th>6686</th>\n",
       "      <td>The directorial debut of Prithviraj Sukumaran ...</td>\n",
       "      <td>2</td>\n",
       "      <td>100</td>\n",
       "    </tr>\n",
       "    <tr>\n",
       "      <th>2925</th>\n",
       "      <td>There is nothing like an Instagram from the ai...</td>\n",
       "      <td>1</td>\n",
       "      <td>101</td>\n",
       "    </tr>\n",
       "    <tr>\n",
       "      <th>620</th>\n",
       "      <td>There were also issues with WhatsApp and Insta...</td>\n",
       "      <td>1</td>\n",
       "      <td>101</td>\n",
       "    </tr>\n",
       "    <tr>\n",
       "      <th>944</th>\n",
       "      <td>As I used to churn out four-five scripts for T...</td>\n",
       "      <td>2</td>\n",
       "      <td>101</td>\n",
       "    </tr>\n",
       "    <tr>\n",
       "      <th>2078</th>\n",
       "      <td>”After dominating the wrestling field, Sangram...</td>\n",
       "      <td>2</td>\n",
       "      <td>101</td>\n",
       "    </tr>\n",
       "    <tr>\n",
       "      <th>149</th>\n",
       "      <td>The full lineup of the festival, which runs fr...</td>\n",
       "      <td>2</td>\n",
       "      <td>101</td>\n",
       "    </tr>\n",
       "    <tr>\n",
       "      <th>2003</th>\n",
       "      <td>In the song, Salman announces himself to be a ...</td>\n",
       "      <td>2</td>\n",
       "      <td>101</td>\n",
       "    </tr>\n",
       "    <tr>\n",
       "      <th>1287</th>\n",
       "      <td>Several popular iOS apps have been found recor...</td>\n",
       "      <td>1</td>\n",
       "      <td>101</td>\n",
       "    </tr>\n",
       "    <tr>\n",
       "      <th>4478</th>\n",
       "      <td>David Leitch, best known for directing Deadpoo...</td>\n",
       "      <td>2</td>\n",
       "      <td>101</td>\n",
       "    </tr>\n",
       "    <tr>\n",
       "      <th>7368</th>\n",
       "      <td>The film’s release was stalled by the Election...</td>\n",
       "      <td>2</td>\n",
       "      <td>101</td>\n",
       "    </tr>\n",
       "    <tr>\n",
       "      <th>6096</th>\n",
       "      <td>For him as well, this conflict has become pers...</td>\n",
       "      <td>2</td>\n",
       "      <td>101</td>\n",
       "    </tr>\n",
       "    <tr>\n",
       "      <th>5742</th>\n",
       "      <td>After receiving the award for her performance ...</td>\n",
       "      <td>2</td>\n",
       "      <td>101</td>\n",
       "    </tr>\n",
       "    <tr>\n",
       "      <th>668</th>\n",
       "      <td>Veteran Congress leader Sushil Kumar Shinde ca...</td>\n",
       "      <td>0</td>\n",
       "      <td>101</td>\n",
       "    </tr>\n",
       "    <tr>\n",
       "      <th>3096</th>\n",
       "      <td>Aamir Khan was last seen in Thugs of Hindostan...</td>\n",
       "      <td>2</td>\n",
       "      <td>102</td>\n",
       "    </tr>\n",
       "    <tr>\n",
       "      <th>473</th>\n",
       "      <td>Murder Mystery reunites Adam Sandler and Jenni...</td>\n",
       "      <td>2</td>\n",
       "      <td>102</td>\n",
       "    </tr>\n",
       "    <tr>\n",
       "      <th>1382</th>\n",
       "      <td>“I don’t want to say (being groped) comes with...</td>\n",
       "      <td>2</td>\n",
       "      <td>102</td>\n",
       "    </tr>\n",
       "    <tr>\n",
       "      <th>6084</th>\n",
       "      <td>The David Dhawan directorial, starring Varun D...</td>\n",
       "      <td>2</td>\n",
       "      <td>102</td>\n",
       "    </tr>\n",
       "    <tr>\n",
       "      <th>6825</th>\n",
       "      <td>They also talked about a scene during the batt...</td>\n",
       "      <td>2</td>\n",
       "      <td>102</td>\n",
       "    </tr>\n",
       "    <tr>\n",
       "      <th>819</th>\n",
       "      <td>Jonas Brothers also just announced their new t...</td>\n",
       "      <td>2</td>\n",
       "      <td>102</td>\n",
       "    </tr>\n",
       "    <tr>\n",
       "      <th>1356</th>\n",
       "      <td>The movie is produced by Bhushan Kumar, Divya ...</td>\n",
       "      <td>2</td>\n",
       "      <td>102</td>\n",
       "    </tr>\n",
       "    <tr>\n",
       "      <th>7592</th>\n",
       "      <td>Chiranjeevi’s son, actor Ram Charan is produci...</td>\n",
       "      <td>2</td>\n",
       "      <td>102</td>\n",
       "    </tr>\n",
       "    <tr>\n",
       "      <th>6329</th>\n",
       "      <td>And I said, ‘OK, I’ll add an action scene’… an...</td>\n",
       "      <td>2</td>\n",
       "      <td>102</td>\n",
       "    </tr>\n",
       "    <tr>\n",
       "      <th>4622</th>\n",
       "      <td>When asked if he has discussed the script with...</td>\n",
       "      <td>2</td>\n",
       "      <td>102</td>\n",
       "    </tr>\n",
       "    <tr>\n",
       "      <th>1741</th>\n",
       "      <td>Actors Sam Claflin and Freida Pinto have board...</td>\n",
       "      <td>2</td>\n",
       "      <td>102</td>\n",
       "    </tr>\n",
       "    <tr>\n",
       "      <th>...</th>\n",
       "      <td>...</td>\n",
       "      <td>...</td>\n",
       "      <td>...</td>\n",
       "    </tr>\n",
       "    <tr>\n",
       "      <th>6358</th>\n",
       "      <td>Educators: Overall this category could see a r...</td>\n",
       "      <td>1</td>\n",
       "      <td>3642</td>\n",
       "    </tr>\n",
       "    <tr>\n",
       "      <th>4176</th>\n",
       "      <td>While gait analysis has been used as supportiv...</td>\n",
       "      <td>1</td>\n",
       "      <td>3643</td>\n",
       "    </tr>\n",
       "    <tr>\n",
       "      <th>4086</th>\n",
       "      <td>Every city may have its own andaaz, a distinct...</td>\n",
       "      <td>0</td>\n",
       "      <td>3665</td>\n",
       "    </tr>\n",
       "    <tr>\n",
       "      <th>6232</th>\n",
       "      <td>The ECI is stuck in the 1980s in the middle of...</td>\n",
       "      <td>0</td>\n",
       "      <td>3673</td>\n",
       "    </tr>\n",
       "    <tr>\n",
       "      <th>3710</th>\n",
       "      <td>The crux of the administration’s argument is t...</td>\n",
       "      <td>1</td>\n",
       "      <td>3701</td>\n",
       "    </tr>\n",
       "    <tr>\n",
       "      <th>225</th>\n",
       "      <td>It’s been a while since a new social app got b...</td>\n",
       "      <td>1</td>\n",
       "      <td>3754</td>\n",
       "    </tr>\n",
       "    <tr>\n",
       "      <th>6128</th>\n",
       "      <td>“I love my country, I support the Communist Pa...</td>\n",
       "      <td>1</td>\n",
       "      <td>3756</td>\n",
       "    </tr>\n",
       "    <tr>\n",
       "      <th>247</th>\n",
       "      <td>The writing on the wall of Mahato’s house give...</td>\n",
       "      <td>0</td>\n",
       "      <td>3791</td>\n",
       "    </tr>\n",
       "    <tr>\n",
       "      <th>1612</th>\n",
       "      <td>Post Pulwama, there’s a general impression tha...</td>\n",
       "      <td>0</td>\n",
       "      <td>3825</td>\n",
       "    </tr>\n",
       "    <tr>\n",
       "      <th>2793</th>\n",
       "      <td>In other foreign capitals, US officials are pl...</td>\n",
       "      <td>1</td>\n",
       "      <td>3828</td>\n",
       "    </tr>\n",
       "    <tr>\n",
       "      <th>2389</th>\n",
       "      <td>Imagine a version of Facebook that was able to...</td>\n",
       "      <td>1</td>\n",
       "      <td>3836</td>\n",
       "    </tr>\n",
       "    <tr>\n",
       "      <th>650</th>\n",
       "      <td>With Avengers: Endgame, the two-movie storylin...</td>\n",
       "      <td>2</td>\n",
       "      <td>3854</td>\n",
       "    </tr>\n",
       "    <tr>\n",
       "      <th>2433</th>\n",
       "      <td>Odd it may sound, but in these parts donning s...</td>\n",
       "      <td>0</td>\n",
       "      <td>3930</td>\n",
       "    </tr>\n",
       "    <tr>\n",
       "      <th>5778</th>\n",
       "      <td>A look at how Artificial Intelligence, blockch...</td>\n",
       "      <td>1</td>\n",
       "      <td>3977</td>\n",
       "    </tr>\n",
       "    <tr>\n",
       "      <th>6788</th>\n",
       "      <td>Incidentally, Dinesh Trivedi’s constituency—th...</td>\n",
       "      <td>0</td>\n",
       "      <td>3984</td>\n",
       "    </tr>\n",
       "    <tr>\n",
       "      <th>4465</th>\n",
       "      <td>The administration of President Donald Trump i...</td>\n",
       "      <td>1</td>\n",
       "      <td>4050</td>\n",
       "    </tr>\n",
       "    <tr>\n",
       "      <th>886</th>\n",
       "      <td>THIRD, consideration should also be given to t...</td>\n",
       "      <td>0</td>\n",
       "      <td>4052</td>\n",
       "    </tr>\n",
       "    <tr>\n",
       "      <th>5975</th>\n",
       "      <td>TikTok assertively answers anyone’s what shoul...</td>\n",
       "      <td>1</td>\n",
       "      <td>4166</td>\n",
       "    </tr>\n",
       "    <tr>\n",
       "      <th>2289</th>\n",
       "      <td>Devotees throng the streets of Nagpur to celeb...</td>\n",
       "      <td>0</td>\n",
       "      <td>4335</td>\n",
       "    </tr>\n",
       "    <tr>\n",
       "      <th>2803</th>\n",
       "      <td>When the candidates arrived, all the questions...</td>\n",
       "      <td>0</td>\n",
       "      <td>4431</td>\n",
       "    </tr>\n",
       "    <tr>\n",
       "      <th>1228</th>\n",
       "      <td>In an election rally in November, when Modi sa...</td>\n",
       "      <td>0</td>\n",
       "      <td>4440</td>\n",
       "    </tr>\n",
       "    <tr>\n",
       "      <th>2314</th>\n",
       "      <td>Conrad Sangma, the NPP supremo and chief minis...</td>\n",
       "      <td>0</td>\n",
       "      <td>4591</td>\n",
       "    </tr>\n",
       "    <tr>\n",
       "      <th>7342</th>\n",
       "      <td>Mint asked top company bosses how they see dis...</td>\n",
       "      <td>1</td>\n",
       "      <td>4940</td>\n",
       "    </tr>\n",
       "    <tr>\n",
       "      <th>7246</th>\n",
       "      <td>Thoughts on AI (Machine Learning, Deep Learnin...</td>\n",
       "      <td>1</td>\n",
       "      <td>5173</td>\n",
       "    </tr>\n",
       "    <tr>\n",
       "      <th>3700</th>\n",
       "      <td>Like most cities its size, Nagpur is erasing i...</td>\n",
       "      <td>0</td>\n",
       "      <td>5234</td>\n",
       "    </tr>\n",
       "    <tr>\n",
       "      <th>2700</th>\n",
       "      <td>There was a time when only Russia was with us ...</td>\n",
       "      <td>0</td>\n",
       "      <td>5773</td>\n",
       "    </tr>\n",
       "    <tr>\n",
       "      <th>6814</th>\n",
       "      <td>In today’s world, data is a company’s most val...</td>\n",
       "      <td>1</td>\n",
       "      <td>5826</td>\n",
       "    </tr>\n",
       "    <tr>\n",
       "      <th>4989</th>\n",
       "      <td>In 2014, Gadkari rode the Modi wave to win by ...</td>\n",
       "      <td>0</td>\n",
       "      <td>5855</td>\n",
       "    </tr>\n",
       "    <tr>\n",
       "      <th>7256</th>\n",
       "      <td>The Congress has made numerous promises in its...</td>\n",
       "      <td>0</td>\n",
       "      <td>5926</td>\n",
       "    </tr>\n",
       "    <tr>\n",
       "      <th>5720</th>\n",
       "      <td>The Digital India initiative is a significant ...</td>\n",
       "      <td>1</td>\n",
       "      <td>6015</td>\n",
       "    </tr>\n",
       "  </tbody>\n",
       "</table>\n",
       "<p>7551 rows × 3 columns</p>\n",
       "</div>"
      ],
      "text/plain": [
       "                                                  STORY  SECTION  Length\n",
       "6946  The actor said, “A person like me who has neve...        2     100\n",
       "5610  Having the chance to reimagine Pinhead and the...        2     100\n",
       "1470  According to sources, it had 17 crore footfall...        2     100\n",
       "3410  It’s hard to remember who any of the cast memb...        2     100\n",
       "4723  The movie is led by Margot Robbie’s Harley Qui...        2     100\n",
       "2671  (But) things have changed today in terms of ac...        2     100\n",
       "6686  The directorial debut of Prithviraj Sukumaran ...        2     100\n",
       "2925  There is nothing like an Instagram from the ai...        1     101\n",
       "620   There were also issues with WhatsApp and Insta...        1     101\n",
       "944   As I used to churn out four-five scripts for T...        2     101\n",
       "2078  ”After dominating the wrestling field, Sangram...        2     101\n",
       "149   The full lineup of the festival, which runs fr...        2     101\n",
       "2003  In the song, Salman announces himself to be a ...        2     101\n",
       "1287  Several popular iOS apps have been found recor...        1     101\n",
       "4478  David Leitch, best known for directing Deadpoo...        2     101\n",
       "7368  The film’s release was stalled by the Election...        2     101\n",
       "6096  For him as well, this conflict has become pers...        2     101\n",
       "5742  After receiving the award for her performance ...        2     101\n",
       "668   Veteran Congress leader Sushil Kumar Shinde ca...        0     101\n",
       "3096  Aamir Khan was last seen in Thugs of Hindostan...        2     102\n",
       "473   Murder Mystery reunites Adam Sandler and Jenni...        2     102\n",
       "1382  “I don’t want to say (being groped) comes with...        2     102\n",
       "6084  The David Dhawan directorial, starring Varun D...        2     102\n",
       "6825  They also talked about a scene during the batt...        2     102\n",
       "819   Jonas Brothers also just announced their new t...        2     102\n",
       "1356  The movie is produced by Bhushan Kumar, Divya ...        2     102\n",
       "7592  Chiranjeevi’s son, actor Ram Charan is produci...        2     102\n",
       "6329  And I said, ‘OK, I’ll add an action scene’… an...        2     102\n",
       "4622  When asked if he has discussed the script with...        2     102\n",
       "1741  Actors Sam Claflin and Freida Pinto have board...        2     102\n",
       "...                                                 ...      ...     ...\n",
       "6358  Educators: Overall this category could see a r...        1    3642\n",
       "4176  While gait analysis has been used as supportiv...        1    3643\n",
       "4086  Every city may have its own andaaz, a distinct...        0    3665\n",
       "6232  The ECI is stuck in the 1980s in the middle of...        0    3673\n",
       "3710  The crux of the administration’s argument is t...        1    3701\n",
       "225   It’s been a while since a new social app got b...        1    3754\n",
       "6128  “I love my country, I support the Communist Pa...        1    3756\n",
       "247   The writing on the wall of Mahato’s house give...        0    3791\n",
       "1612  Post Pulwama, there’s a general impression tha...        0    3825\n",
       "2793  In other foreign capitals, US officials are pl...        1    3828\n",
       "2389  Imagine a version of Facebook that was able to...        1    3836\n",
       "650   With Avengers: Endgame, the two-movie storylin...        2    3854\n",
       "2433  Odd it may sound, but in these parts donning s...        0    3930\n",
       "5778  A look at how Artificial Intelligence, blockch...        1    3977\n",
       "6788  Incidentally, Dinesh Trivedi’s constituency—th...        0    3984\n",
       "4465  The administration of President Donald Trump i...        1    4050\n",
       "886   THIRD, consideration should also be given to t...        0    4052\n",
       "5975  TikTok assertively answers anyone’s what shoul...        1    4166\n",
       "2289  Devotees throng the streets of Nagpur to celeb...        0    4335\n",
       "2803  When the candidates arrived, all the questions...        0    4431\n",
       "1228  In an election rally in November, when Modi sa...        0    4440\n",
       "2314  Conrad Sangma, the NPP supremo and chief minis...        0    4591\n",
       "7342  Mint asked top company bosses how they see dis...        1    4940\n",
       "7246  Thoughts on AI (Machine Learning, Deep Learnin...        1    5173\n",
       "3700  Like most cities its size, Nagpur is erasing i...        0    5234\n",
       "2700  There was a time when only Russia was with us ...        0    5773\n",
       "6814  In today’s world, data is a company’s most val...        1    5826\n",
       "4989  In 2014, Gadkari rode the Modi wave to win by ...        0    5855\n",
       "7256  The Congress has made numerous promises in its...        0    5926\n",
       "5720  The Digital India initiative is a significant ...        1    6015\n",
       "\n",
       "[7551 rows x 3 columns]"
      ]
     },
     "execution_count": 12,
     "metadata": {},
     "output_type": "execute_result"
    }
   ],
   "source": [
    "df.sort_values(by='Length')"
   ]
  },
  {
   "cell_type": "code",
   "execution_count": 13,
   "metadata": {},
   "outputs": [],
   "source": [
    "#df[df['Length']<4591]"
   ]
  },
  {
   "cell_type": "code",
   "execution_count": 14,
   "metadata": {},
   "outputs": [],
   "source": [
    "df_2 = Train"
   ]
  },
  {
   "cell_type": "code",
   "execution_count": 15,
   "metadata": {},
   "outputs": [
    {
     "data": {
      "text/plain": [
       "(7551, 3)"
      ]
     },
     "execution_count": 15,
     "metadata": {},
     "output_type": "execute_result"
    }
   ],
   "source": [
    "df.shape\n",
    "\n"
   ]
  },
  {
   "cell_type": "code",
   "execution_count": 16,
   "metadata": {
    "scrolled": true
   },
   "outputs": [
    {
     "data": {
      "text/plain": [
       "1    2772\n",
       "2    1924\n",
       "0    1686\n",
       "3    1246\n",
       "Name: SECTION, dtype: int64"
      ]
     },
     "execution_count": 16,
     "metadata": {},
     "output_type": "execute_result"
    }
   ],
   "source": [
    "Train['SECTION'].value_counts()"
   ]
  },
  {
   "cell_type": "code",
   "execution_count": 17,
   "metadata": {},
   "outputs": [
    {
     "name": "stderr",
     "output_type": "stream",
     "text": [
      "C:\\Users\\drago\\Anaconda3\\lib\\site-packages\\ipykernel_launcher.py:17: SettingWithCopyWarning: \n",
      "A value is trying to be set on a copy of a slice from a DataFrame.\n",
      "Try using .loc[row_indexer,col_indexer] = value instead\n",
      "\n",
      "See the caveats in the documentation: http://pandas.pydata.org/pandas-docs/stable/indexing.html#indexing-view-versus-copy\n",
      "C:\\Users\\drago\\Anaconda3\\lib\\site-packages\\ipykernel_launcher.py:18: SettingWithCopyWarning: \n",
      "A value is trying to be set on a copy of a slice from a DataFrame.\n",
      "Try using .loc[row_indexer,col_indexer] = value instead\n",
      "\n",
      "See the caveats in the documentation: http://pandas.pydata.org/pandas-docs/stable/indexing.html#indexing-view-versus-copy\n"
     ]
    }
   ],
   "source": [
    "def fix_backslash_n(string):\n",
    "    string=string.replace('\\n',' ')\n",
    "    #while '  ' in string:\n",
    "        #string.replace('  ',' ')\n",
    "    return string\n",
    "\n",
    "def remove_extra(string):\n",
    "    if 'This story has been published from a wire agency feed without modifications to the text. Only the headline has been changed' in string:\n",
    "        string.replace('This story has been published from a wire agency feed without modifications to the text. Only the headline has been changed',' ')\n",
    "    if 'story has been published from a wire agency feed without modifications to the text. Only the headline has been changed.' in string :\n",
    "        string.replace('story has been published from a wire agency feed without modifications to the text. Only the headline has been changed.',' ')\n",
    "\n",
    "    return string\n",
    "    \n",
    "    \n",
    "\n",
    "df['STORY'] =df['STORY'].apply(fix_backslash_n)\n",
    "df['STORY'] =df['STORY'].apply(remove_extra)\n"
   ]
  },
  {
   "cell_type": "code",
   "execution_count": null,
   "metadata": {},
   "outputs": [],
   "source": []
  },
  {
   "cell_type": "code",
   "execution_count": 18,
   "metadata": {},
   "outputs": [
    {
     "name": "stdout",
     "output_type": "stream",
     "text": [
      "[nltk_data] Downloading package wordnet to C:\\Users\\drago/nltk_data...\n",
      "[nltk_data]   Package wordnet is already up-to-date!\n",
      "[nltk_data] Downloading package stopwords to\n",
      "[nltk_data]     C:\\Users\\drago/nltk_data...\n",
      "[nltk_data]   Package stopwords is already up-to-date!\n",
      "[nltk_data] Downloading package punkt to C:\\Users\\drago/nltk_data...\n",
      "[nltk_data]   Package punkt is already up-to-date!\n"
     ]
    },
    {
     "data": {
      "text/plain": [
       "True"
      ]
     },
     "execution_count": 18,
     "metadata": {},
     "output_type": "execute_result"
    }
   ],
   "source": [
    "from nltk.corpus import stopwords\n",
    "from sklearn.feature_extraction.text import TfidfVectorizer\n",
    "import nltk\n",
    "import re\n",
    "import string\n",
    "from nltk.stem.wordnet import WordNetLemmatizer\n",
    "from nltk.tokenize import word_tokenize\n",
    "from num2words import num2words\n",
    "from nltk.stem.snowball import SnowballStemmer\n",
    "stemmer = SnowballStemmer(\"english\")\n",
    "\n",
    "nltk.download('wordnet')\n",
    "nltk.download('stopwords')\n",
    "nltk.download('punkt')"
   ]
  },
  {
   "cell_type": "code",
   "execution_count": 19,
   "metadata": {},
   "outputs": [],
   "source": [
    "stop = ['a', 'about', 'above', 'across', 'after', 'afterwards', 'again', 'against', 'all', 'almost', 'alone',\n",
    "             'along', 'already', 'also', 'although', 'always', 'am', 'among', 'amongst', 'amoungst', 'amount',\n",
    "             'an', 'and', 'another', 'any', 'anyhow', 'anyone', 'anything', 'anyway', 'anywhere', 'are', 'around',\n",
    "             'as', 'at', 'back', 'be', 'became', 'because', 'become', 'becomes', 'becoming', 'been', 'before',\n",
    "             'beforehand', 'behind', 'being', 'below', 'beside', 'besides', 'between', 'beyond', 'bill', 'both',\n",
    "             'bottom', 'but', 'by', 'call', 'can', 'cannot', 'cant', 'co', 'con', 'could', 'couldnt', 'cry', 'de',\n",
    "             'describe', 'detail', 'did', 'do', 'does', 'doing', 'don', 'done', 'down', 'due', 'during', 'each', 'eg',\n",
    "             'eight', 'either', 'eleven', 'else', 'elsewhere', 'empty', 'enough', 'etc', 'even', 'ever', 'every', 'everyone',\n",
    "             'everything', 'everywhere', 'except', 'few', 'fifteen', 'fify', 'fill', 'find', 'fire', 'first', 'five', 'for',\n",
    "             'former', 'formerly', 'forty', 'found', 'four', 'from', 'front', 'full', 'further', 'get', 'give', 'go', 'had',\n",
    "             'has', 'hasnt', 'have', 'having', 'he', 'hence', 'her', 'here', 'hereafter', 'hereby', 'herein', 'hereupon',\n",
    "             'hers', 'herself', 'him', 'himself', 'his', 'how', 'however', 'hundred', 'i', 'ie', 'if', 'in', 'inc', 'indeed',\n",
    "             'interest', 'into', 'is', 'it', 'its', 'itself', 'just', 'keep', 'last', 'latter', 'latterly', 'least', 'less',\n",
    "             'ltd', 'made', 'many', 'may', 'me', 'meanwhile', 'might', 'mill', 'mine', 'more', 'moreover', 'most', 'mostly',\n",
    "             'move', 'much', 'must', 'my', 'myself', 'name', 'namely', 'neither', 'never', 'nevertheless', 'next', 'nine',\n",
    "             'no', 'nobody', 'none', 'noone', 'nor', 'not', 'nothing', 'now', 'nowhere', 'of', 'off', 'often', 'on', 'once',\n",
    "             'one', 'only', 'onto', 'or', 'other', 'others', 'otherwise', 'our', 'ours', 'ourselves', 'out', 'over', 'own',\n",
    "             'part', 'per', 'perhaps', 'please', 'put', 'rather', 're', 's', 'same', 'see', 'seem', 'seemed', 'seeming',\n",
    "             'seems', 'serious', 'several', 'she', 'should', 'show', 'side', 'since', 'sincere', 'six', 'sixty', 'so', \n",
    "             'some', 'somehow', 'someone', 'something', 'sometime', 'sometimes', 'somewhere', 'still', 'such', 'system',\n",
    "             't', 'take', 'ten', 'than', 'that', 'the', 'their', 'theirs', 'them', 'themselves', 'then', 'thence', 'there',\n",
    "             'thereafter', 'thereby', 'therefore', 'therein', 'thereupon', 'these', 'they', 'thickv', 'thin', 'third', 'this',\n",
    "             'those', 'though', 'three', 'through', 'throughout', 'thru', 'thus', 'to', 'together', 'too', 'top', 'toward',\n",
    "             'towards', 'twelve', 'twenty', 'two', 'un', 'under', 'until', 'up', 'upon', 'us', 'very', 'via', 'was', 'we',\n",
    "             'well', 'were', 'what', 'whatever', 'when', 'whence', 'whenever', 'where', 'whereafter', 'whereas', 'whereby',\n",
    "             'wherein', 'whereupon', 'wherever', 'whether', 'which', 'while', 'whither', 'who', 'whoever', 'whole', 'whom',\n",
    "             'whose', 'why', 'will', 'with', 'within', 'without', 'would', 'yet', 'you', 'your', 'yours', 'yourself',\n",
    "             'yourselves','click','january','thousand','nineteen','said'\n",
    "       ]"
   ]
  },
  {
   "cell_type": "code",
   "execution_count": 20,
   "metadata": {},
   "outputs": [],
   "source": [
    "stop_words = stopwords.words('english')\n",
    "stop_words.extend(stop)\n",
    "stop = set(stop_words)\n",
    "exclude = set(string.punctuation)\n",
    "lemma = WordNetLemmatizer()"
   ]
  },
  {
   "cell_type": "code",
   "execution_count": 21,
   "metadata": {},
   "outputs": [],
   "source": [
    "def remove_apostrophe(data):\n",
    "    data = np.char.replace(data,\"’\",\"\")\n",
    "    data = np.char.replace(data, \"'\", \"\")\n",
    "    data = np.char.replace(data, \"‘\", \"\")\n",
    "    data = np.char.replace(data, \"—\", \"\")\n",
    "\n",
    "    \n",
    "    return data\n",
    "\n",
    "def remove_punctuation(data):\n",
    "    for i in (exclude):\n",
    "        data = np.char.replace(data, i, ' ')\n",
    "        data = np.char.replace(data, \"  \", \" \")\n",
    "    data = np.char.replace(data, ',', '')\n",
    "    data = np.char.replace(data, \"“\", \"\")\n",
    "    return data\n",
    "\n",
    "def convert_numbers(data):\n",
    "    tokens = word_tokenize(str(data))\n",
    "    new_text = \"\"\n",
    "    for w in tokens:\n",
    "        try:\n",
    "            w = num2words(int(w))\n",
    "        except:\n",
    "            a = 0\n",
    "        new_text = new_text + \" \" + w\n",
    "    new_text = np.char.replace(new_text, \"-\", \" \")\n",
    "    return new_text\n",
    "\n",
    "def clean(data):\n",
    "    stop_free = \" \".join([i for i in data.lower().split() if i not in stop])\n",
    "    normalized = \" \".join(lemma.lemmatize(word) for word in stop_free.split())\n",
    "    processed = re.sub(r\"\\d+\",\"\",normalized)\n",
    "    #y = processed.split()\n",
    "    return processed\n"
   ]
  },
  {
   "cell_type": "code",
   "execution_count": 22,
   "metadata": {},
   "outputs": [
    {
     "name": "stderr",
     "output_type": "stream",
     "text": [
      "C:\\Users\\drago\\Anaconda3\\lib\\site-packages\\ipykernel_launcher.py:1: SettingWithCopyWarning: \n",
      "A value is trying to be set on a copy of a slice from a DataFrame.\n",
      "Try using .loc[row_indexer,col_indexer] = value instead\n",
      "\n",
      "See the caveats in the documentation: http://pandas.pydata.org/pandas-docs/stable/indexing.html#indexing-view-versus-copy\n",
      "  \"\"\"Entry point for launching an IPython kernel.\n",
      "C:\\Users\\drago\\Anaconda3\\lib\\site-packages\\ipykernel_launcher.py:2: SettingWithCopyWarning: \n",
      "A value is trying to be set on a copy of a slice from a DataFrame.\n",
      "Try using .loc[row_indexer,col_indexer] = value instead\n",
      "\n",
      "See the caveats in the documentation: http://pandas.pydata.org/pandas-docs/stable/indexing.html#indexing-view-versus-copy\n",
      "  \n",
      "C:\\Users\\drago\\Anaconda3\\lib\\site-packages\\ipykernel_launcher.py:3: SettingWithCopyWarning: \n",
      "A value is trying to be set on a copy of a slice from a DataFrame.\n",
      "Try using .loc[row_indexer,col_indexer] = value instead\n",
      "\n",
      "See the caveats in the documentation: http://pandas.pydata.org/pandas-docs/stable/indexing.html#indexing-view-versus-copy\n",
      "  This is separate from the ipykernel package so we can avoid doing imports until\n",
      "C:\\Users\\drago\\Anaconda3\\lib\\site-packages\\ipykernel_launcher.py:4: SettingWithCopyWarning: \n",
      "A value is trying to be set on a copy of a slice from a DataFrame.\n",
      "Try using .loc[row_indexer,col_indexer] = value instead\n",
      "\n",
      "See the caveats in the documentation: http://pandas.pydata.org/pandas-docs/stable/indexing.html#indexing-view-versus-copy\n",
      "  after removing the cwd from sys.path.\n"
     ]
    }
   ],
   "source": [
    "df['STORY'] = df['STORY'].apply(remove_apostrophe)\n",
    "df['STORY'] = df['STORY'].apply(remove_punctuation)\n",
    "df['STORY'] = df['STORY'].apply(convert_numbers)\n",
    "df['STORY'] = df['STORY'].apply(clean)"
   ]
  },
  {
   "cell_type": "code",
   "execution_count": 23,
   "metadata": {},
   "outputs": [],
   "source": [
    "def tokenize_and_stem(text):\n",
    "   \n",
    "    tokens = [word for sent in nltk.sent_tokenize(text) for word in nltk.word_tokenize(sent)]\n",
    "    filtered_tokens = []\n",
    "\n",
    "    for token in tokens:\n",
    "        if re.search('[a-zA-Z]', token):\n",
    "            filtered_tokens.append(token)\n",
    "    stems = [stemmer.stem(t) for t in filtered_tokens]\n",
    "    return stems"
   ]
  },
  {
   "cell_type": "code",
   "execution_count": 24,
   "metadata": {},
   "outputs": [
    {
     "name": "stderr",
     "output_type": "stream",
     "text": [
      "C:\\Users\\drago\\Anaconda3\\lib\\site-packages\\ipykernel_launcher.py:1: SettingWithCopyWarning: \n",
      "A value is trying to be set on a copy of a slice from a DataFrame\n",
      "\n",
      "See the caveats in the documentation: http://pandas.pydata.org/pandas-docs/stable/indexing.html#indexing-view-versus-copy\n",
      "  \"\"\"Entry point for launching an IPython kernel.\n"
     ]
    }
   ],
   "source": [
    "df.dropna(inplace=True)"
   ]
  },
  {
   "cell_type": "code",
   "execution_count": 25,
   "metadata": {},
   "outputs": [],
   "source": [
    "df = df.reset_index(drop=True)"
   ]
  },
  {
   "cell_type": "code",
   "execution_count": null,
   "metadata": {},
   "outputs": [],
   "source": []
  },
  {
   "cell_type": "code",
   "execution_count": 26,
   "metadata": {},
   "outputs": [],
   "source": [
    "X=df['STORY']\n",
    "y = df['SECTION']\n",
    "\n",
    "from sklearn.model_selection import train_test_split\n",
    "X_train, X_test, y_train, y_test = train_test_split(X, y, test_size=0.25, random_state=42)"
   ]
  },
  {
   "cell_type": "code",
   "execution_count": 27,
   "metadata": {},
   "outputs": [],
   "source": [
    "from sklearn.pipeline import Pipeline\n",
    "from sklearn.feature_extraction.text import TfidfTransformer\n",
    "from sklearn.feature_extraction.text import CountVectorizer, TfidfVectorizer\n",
    "from sklearn.metrics import accuracy_score\n",
    "from nltk.tokenize import word_tokenize\n"
   ]
  },
  {
   "cell_type": "code",
   "execution_count": 28,
   "metadata": {},
   "outputs": [
    {
     "data": {
      "text/plain": [
       "\"\\nfrom sklearn.naive_bayes import MultinomialNB\\nfrom sklearn.metrics import classification_report\\n\\n\\nMAX_DF = [300,400,450,500,550,600,650,700,750,800,850,900,950,1000,1050,1100,1200]\\nMIN_DF = [4,5,6,7,8,9,10,20,30,40,50,60,70,80,90,100,110,120]\\n\\nACU= []\\nfor i in MAX_DF:\\n    for j in MIN_DF:\\n\\n        nb = Pipeline([('vect', CountVectorizer(max_df=i,min_df=j,ngram_range=(1, 2))),\\n                       ('tfidf', TfidfTransformer(norm='l2')),\\n                       ('clf', MultinomialNB())])\\n        nb.fit(X_train, y_train)\\n        y_pred = nb.predict(X_test)\\n        acc = accuracy_score(y_pred, y_test)*100\\n        print(acc)\\n        ACU.append((i,j,acc))\\n        \""
      ]
     },
     "execution_count": 28,
     "metadata": {},
     "output_type": "execute_result"
    }
   ],
   "source": [
    "\"\"\"\n",
    "from sklearn.naive_bayes import MultinomialNB\n",
    "from sklearn.metrics import classification_report\n",
    "\n",
    "\n",
    "MAX_DF = [300,400,450,500,550,600,650,700,750,800,850,900,950,1000,1050,1100,1200]\n",
    "MIN_DF = [4,5,6,7,8,9,10,20,30,40,50,60,70,80,90,100,110,120]\n",
    "\n",
    "ACU= []\n",
    "for i in MAX_DF:\n",
    "    for j in MIN_DF:\n",
    "\n",
    "        nb = Pipeline([('vect', CountVectorizer(max_df=i,min_df=j,ngram_range=(1, 2))),\n",
    "                       ('tfidf', TfidfTransformer(norm='l2')),\n",
    "                       ('clf', MultinomialNB())])\n",
    "        nb.fit(X_train, y_train)\n",
    "        y_pred = nb.predict(X_test)\n",
    "        acc = accuracy_score(y_pred, y_test)*100\n",
    "        print(acc)\n",
    "        ACU.append((i,j,acc))\n",
    "        \"\"\""
   ]
  },
  {
   "cell_type": "code",
   "execution_count": 29,
   "metadata": {},
   "outputs": [],
   "source": [
    "#pd.DataFrame(ACU,columns=['Max','Min','Accuracy']).sort_values(by='Accuracy',ascending=False).head(10)"
   ]
  },
  {
   "cell_type": "code",
   "execution_count": 30,
   "metadata": {},
   "outputs": [
    {
     "name": "stdout",
     "output_type": "stream",
     "text": [
      "accuracy 0.9639830508474576\n",
      "             precision    recall  f1-score   support\n",
      "\n",
      "          0       0.96      0.97      0.97       414\n",
      "          1       0.94      0.99      0.96       666\n",
      "          2       0.99      0.93      0.96       502\n",
      "          3       0.98      0.96      0.97       306\n",
      "\n",
      "avg / total       0.96      0.96      0.96      1888\n",
      "\n"
     ]
    }
   ],
   "source": [
    "from sklearn.naive_bayes import MultinomialNB\n",
    "\n",
    "nb = Pipeline([('vect', CountVectorizer(max_df=1200,min_df=4,ngram_range=(1, 4), tokenizer=tokenize_and_stem)),\n",
    "               ('tfidf', TfidfTransformer(norm='l2',)),\n",
    "               ('clf', MultinomialNB()),\n",
    "              ])\n",
    "nb.fit(X_train, y_train)\n",
    "from sklearn.metrics import classification_report\n",
    "y_pred = nb.predict(X_test)\n",
    "\n",
    "print('accuracy %s' % accuracy_score(y_pred, y_test))\n",
    "print(classification_report(y_test, y_pred))"
   ]
  },
  {
   "cell_type": "code",
   "execution_count": 31,
   "metadata": {},
   "outputs": [
    {
     "data": {
      "text/plain": [
       "\"\\nACU= []\\nfor i in MAX_DF:\\n    for j in MIN_DF:\\n\\n        sgd = Pipeline([('vect', CountVectorizer(max_df=i,min_df=j,ngram_range=(1, 2), tokenizer=tokenize_and_stem)),\\n                       ('tfidf', TfidfTransformer(norm='l2',)),\\n                        ('clf', SGDClassifier(loss='hinge', penalty='l2',alpha=1e-3, random_state=101, max_iter=5, tol=None)),\\n                       ])\\n        sgd.fit(X_train, y_train)\\n        y_pred = sgd.predict(X_test)\\n        acc = accuracy_score(y_pred, y_test)*100\\n        print(acc)\\n        ACU.append((i,j,acc))\""
      ]
     },
     "execution_count": 31,
     "metadata": {},
     "output_type": "execute_result"
    }
   ],
   "source": [
    "\n",
    "\"\"\"\n",
    "ACU= []\n",
    "for i in MAX_DF:\n",
    "    for j in MIN_DF:\n",
    "\n",
    "        sgd = Pipeline([('vect', CountVectorizer(max_df=i,min_df=j,ngram_range=(1, 2), tokenizer=tokenize_and_stem)),\n",
    "                       ('tfidf', TfidfTransformer(norm='l2',)),\n",
    "                        ('clf', SGDClassifier(loss='hinge', penalty='l2',alpha=1e-3, random_state=101, max_iter=5, tol=None)),\n",
    "                       ])\n",
    "        sgd.fit(X_train, y_train)\n",
    "        y_pred = sgd.predict(X_test)\n",
    "        acc = accuracy_score(y_pred, y_test)*100\n",
    "        print(acc)\n",
    "        ACU.append((i,j,acc))\"\"\""
   ]
  },
  {
   "cell_type": "code",
   "execution_count": 32,
   "metadata": {},
   "outputs": [],
   "source": [
    "#pd.DataFrame(ACU,columns=['Max','Min','Accuracy']).sort_values(by='Accuracy',ascending=False).head(20)"
   ]
  },
  {
   "cell_type": "code",
   "execution_count": 33,
   "metadata": {},
   "outputs": [
    {
     "name": "stdout",
     "output_type": "stream",
     "text": [
      "accuracy 0.9788135593220338\n",
      "             precision    recall  f1-score   support\n",
      "\n",
      "          0       0.98      0.97      0.97       414\n",
      "          1       0.98      0.98      0.98       666\n",
      "          2       0.98      0.98      0.98       502\n",
      "          3       0.97      0.99      0.98       306\n",
      "\n",
      "avg / total       0.98      0.98      0.98      1888\n",
      "\n"
     ]
    }
   ],
   "source": [
    "from sklearn.linear_model import SGDClassifier\n",
    "\n",
    "sgd = Pipeline([('vect', CountVectorizer(max_df=1200,min_df=4,ngram_range=(1, 2), tokenizer=tokenize_and_stem)),\n",
    "               ('tfidf', TfidfTransformer(norm='l2',)),\n",
    "                ('clf', SGDClassifier(loss='hinge', penalty='l2',alpha=1e-4, random_state=101, max_iter=5, tol=None)),\n",
    "               ])\n",
    "sgd.fit(X_train, y_train)\n",
    "y_pred = sgd.predict(X_test)\n",
    "print('accuracy %s' % accuracy_score(y_pred, y_test))\n",
    "print(classification_report(y_test, y_pred))"
   ]
  },
  {
   "cell_type": "code",
   "execution_count": null,
   "metadata": {},
   "outputs": [],
   "source": []
  },
  {
   "cell_type": "code",
   "execution_count": null,
   "metadata": {},
   "outputs": [],
   "source": []
  },
  {
   "cell_type": "code",
   "execution_count": 34,
   "metadata": {},
   "outputs": [
    {
     "name": "stdout",
     "output_type": "stream",
     "text": [
      "accuracy 0.9782838983050848\n",
      "             precision    recall  f1-score   support\n",
      "\n",
      "          0       0.98      0.98      0.98       414\n",
      "          1       0.98      0.98      0.98       666\n",
      "          2       0.98      0.97      0.98       502\n",
      "          3       0.96      0.99      0.98       306\n",
      "\n",
      "avg / total       0.98      0.98      0.98      1888\n",
      "\n"
     ]
    }
   ],
   "source": [
    "from sklearn.linear_model import LogisticRegression\n",
    "\n",
    "logreg = Pipeline([('vect', CountVectorizer(max_df=1000,min_df=5,ngram_range=(1, 3))),\n",
    "               ('tfidf', TfidfTransformer(norm='l2',)),\n",
    "                ('clf', LogisticRegression(n_jobs=1, C=1e4)),\n",
    "               ])\n",
    "logreg.fit(X_train, y_train)\n",
    "y_pred = logreg.predict(X_test)\n",
    "print('accuracy %s' % accuracy_score(y_pred, y_test))\n",
    "print(classification_report(y_test, y_pred))"
   ]
  },
  {
   "cell_type": "code",
   "execution_count": 35,
   "metadata": {},
   "outputs": [],
   "source": [
    "from sklearn.naive_bayes import MultinomialNB\n",
    "from sklearn.metrics import classification_report\n",
    "\n"
   ]
  },
  {
   "cell_type": "code",
   "execution_count": 36,
   "metadata": {},
   "outputs": [
    {
     "name": "stdout",
     "output_type": "stream",
     "text": [
      "accuracy 0.9798728813559322\n",
      "             precision    recall  f1-score   support\n",
      "\n",
      "          0       0.98      0.97      0.97       414\n",
      "          1       0.98      0.98      0.98       666\n",
      "          2       0.98      0.97      0.98       502\n",
      "          3       0.97      0.99      0.98       306\n",
      "\n",
      "avg / total       0.98      0.98      0.98      1888\n",
      "\n"
     ]
    }
   ],
   "source": [
    "from sklearn.ensemble import GradientBoostingClassifier\n",
    "from sklearn.ensemble import BaggingClassifier\n",
    "from sklearn import tree\n",
    "from sklearn.ensemble import RandomForestClassifier\n",
    "\n",
    "model = Pipeline([('vect', CountVectorizer(max_df=1000,min_df=5,ngram_range=(1, 3),max_features=20000)),\n",
    "               ('tfidf', TfidfTransformer(norm='l2')),\n",
    "               ('clf', SGDClassifier(loss='hinge', penalty='l2',alpha=1e-4, random_state=101, max_iter=6,  tol=None)),\n",
    "              ])\n",
    "model.fit(X_train, y_train)\n",
    "bagging_preds = model.predict(X_test)\n",
    "\n",
    "print('accuracy %s' % accuracy_score(bagging_preds, y_test))\n",
    "print(classification_report(y_test, bagging_preds))"
   ]
  },
  {
   "cell_type": "code",
   "execution_count": 37,
   "metadata": {},
   "outputs": [],
   "source": [
    "df_test = pd.DataFrame.copy(Test)"
   ]
  },
  {
   "cell_type": "code",
   "execution_count": null,
   "metadata": {},
   "outputs": [],
   "source": []
  },
  {
   "cell_type": "code",
   "execution_count": null,
   "metadata": {},
   "outputs": [],
   "source": []
  },
  {
   "cell_type": "code",
   "execution_count": 38,
   "metadata": {},
   "outputs": [
    {
     "name": "stderr",
     "output_type": "stream",
     "text": [
      "C:\\Users\\drago\\Anaconda3\\lib\\site-packages\\sklearn\\cross_validation.py:41: DeprecationWarning: This module was deprecated in version 0.18 in favor of the model_selection module into which all the refactored classes and functions are moved. Also note that the interface of the new CV iterators are different from that of this module. This module will be removed in 0.20.\n",
      "  \"This module will be removed in 0.20.\", DeprecationWarning)\n"
     ]
    },
    {
     "name": "stdout",
     "output_type": "stream",
     "text": [
      "accuracy 0.9735169491525424\n",
      "accuracy 0.9766949152542372\n",
      "accuracy 0.9819915254237288\n",
      "accuracy 0.9798728813559322\n",
      "accuracy 0.9819915254237288\n",
      "accuracy 0.9745762711864406\n",
      "accuracy 0.9851694915254238\n",
      "accuracy 0.9766702014846236\n",
      "\n",
      "avg score is : 0.9788104701008322\n"
     ]
    }
   ],
   "source": [
    "from sklearn.cross_validation import KFold\n",
    "score = []\n",
    "kf = KFold(y.shape[0], n_folds=8,random_state=42)\n",
    "for train_index, test_index in kf:\n",
    "    x_train_cv, y_train_cv = X[train_index], y[train_index] \n",
    "    x_test_cv, y_test_cv = X[test_index], y[test_index]\n",
    "    \n",
    "    model = Pipeline([('vect', CountVectorizer(ngram_range=(1, 2),)),\n",
    "               ('tfidf', TfidfTransformer(norm='l2',use_idf=True,smooth_idf=True)),\n",
    "               ('bc', BaggingClassifier(SGDClassifier(loss='hinge', penalty='l2',alpha=1e-4, random_state=101, max_iter=5,  tol=None))),\n",
    "               ])\n",
    "    model.fit(x_train_cv, y_train_cv)\n",
    "    bagging_preds = model.predict(x_test_cv)\n",
    "\n",
    "    print('accuracy %s' % accuracy_score(bagging_preds, y_test_cv))\n",
    "    score.append(accuracy_score(bagging_preds, y_test_cv))\n",
    "print()    \n",
    "print('avg score is : '+str(sum(score)/8))"
   ]
  },
  {
   "cell_type": "code",
   "execution_count": 39,
   "metadata": {},
   "outputs": [
    {
     "name": "stdout",
     "output_type": "stream",
     "text": [
      "accuracy 0.9830508474576272\n",
      "             precision    recall  f1-score   support\n",
      "\n",
      "          0       0.98      0.97      0.97       414\n",
      "          1       0.99      0.99      0.99       666\n",
      "          2       0.99      0.98      0.98       502\n",
      "          3       0.98      0.99      0.98       306\n",
      "\n",
      "avg / total       0.98      0.98      0.98      1888\n",
      "\n"
     ]
    }
   ],
   "source": [
    "model = Pipeline([('vect', CountVectorizer(ngram_range=(1, 2),)),\n",
    "               ('tfidf', TfidfTransformer(norm='l2',use_idf=True,smooth_idf=True)),\n",
    "               ('bc', BaggingClassifier(SGDClassifier(loss='hinge', penalty='l2',alpha=1e-4, random_state=101, max_iter=5,  tol=None))),\n",
    "               ])\n",
    "model.fit(X_train, y_train)\n",
    "bagging_preds = model.predict(X_test)\n",
    "\n",
    "print('accuracy %s' % accuracy_score(bagging_preds, y_test))\n",
    "print(classification_report(y_test, bagging_preds))"
   ]
  },
  {
   "cell_type": "code",
   "execution_count": 40,
   "metadata": {},
   "outputs": [],
   "source": [
    "cc = SGDClassifier(loss='hinge', penalty='l2',alpha=1e-4, random_state=101, max_iter=5,  tol=None)"
   ]
  },
  {
   "cell_type": "code",
   "execution_count": 41,
   "metadata": {},
   "outputs": [],
   "source": [
    "##Important : min_df\n",
    "from sklearn.feature_extraction.text import TfidfVectorizer\n",
    "vectorizer = TfidfVectorizer(max_features=200000,\n",
    "                                 stop_words='english',\n",
    "                                 use_idf=True, tokenizer=tokenize_and_stem, ngram_range=(1,2))"
   ]
  },
  {
   "cell_type": "code",
   "execution_count": 42,
   "metadata": {},
   "outputs": [],
   "source": [
    "tfidf_matrix = vectorizer.fit_transform(X_train)"
   ]
  },
  {
   "cell_type": "code",
   "execution_count": null,
   "metadata": {},
   "outputs": [],
   "source": []
  },
  {
   "cell_type": "code",
   "execution_count": 43,
   "metadata": {},
   "outputs": [
    {
     "data": {
      "text/plain": [
       "\"\\nfrom sklearn.model_selection import GridSearchCV\\ngd_sr = GridSearchCV(estimator=cc,\\n                     param_grid=grid_param,\\n                     scoring='accuracy',\\n                     cv=5,\\n                     n_jobs=-1)\""
      ]
     },
     "execution_count": 43,
     "metadata": {},
     "output_type": "execute_result"
    }
   ],
   "source": [
    "\"\"\"\n",
    "from sklearn.model_selection import GridSearchCV\n",
    "gd_sr = GridSearchCV(estimator=cc,\n",
    "                     param_grid=grid_param,\n",
    "                     scoring='accuracy',\n",
    "                     cv=5,\n",
    "                     n_jobs=-1)\"\"\""
   ]
  },
  {
   "cell_type": "code",
   "execution_count": 44,
   "metadata": {},
   "outputs": [],
   "source": [
    "#gd_sr.fit(tfidf_matrix,y_train)"
   ]
  },
  {
   "cell_type": "code",
   "execution_count": 45,
   "metadata": {},
   "outputs": [],
   "source": [
    "#gd_sr.fit(X_train, y_train)\n"
   ]
  },
  {
   "cell_type": "code",
   "execution_count": null,
   "metadata": {},
   "outputs": [],
   "source": []
  },
  {
   "cell_type": "code",
   "execution_count": null,
   "metadata": {},
   "outputs": [],
   "source": []
  },
  {
   "cell_type": "code",
   "execution_count": 46,
   "metadata": {},
   "outputs": [
    {
     "data": {
      "text/plain": [
       "\"\\n#MAX_DF = [300,400,450,500,550,600,650,700,750,800,850,900,950,1000,1050,1100,1200] MIN_DF = [4,5,6,7,8,9,10,20,30,40,50,60,70,80,90,100,110,120]\\n\\nACU= [] \\nalpha= [1e-4, 1e-3, 1e-2, 1e-1, 1e0, 1e1, 1e2, 1e3]\\n\\nfor n_iter in range(1,1000):\\n\\n        model = Pipeline([('vect', CountVectorizer(ngram_range=(1, 2))),\\n               ('tfidf', TfidfTransformer(norm='l2')),\\n               ('bc', BaggingClassifier(SGDClassifier(loss='hinge', penalty='l2',alpha=alp, random_state=101, max_iter=n_iter,  tol=None))),\\n               ])\\n        model.fit(X_train, y_train)\\n        y_pred = model.predict(X_test)\\n        acc = accuracy_score(y_pred, y_test)*100\\n        print(acc)\\n        ACU.append((alp,n_iter,acc))\\n        \\n        \""
      ]
     },
     "execution_count": 46,
     "metadata": {},
     "output_type": "execute_result"
    }
   ],
   "source": [
    "\"\"\"\n",
    "#MAX_DF = [300,400,450,500,550,600,650,700,750,800,850,900,950,1000,1050,1100,1200] MIN_DF = [4,5,6,7,8,9,10,20,30,40,50,60,70,80,90,100,110,120]\n",
    "\n",
    "ACU= [] \n",
    "alpha= [1e-4, 1e-3, 1e-2, 1e-1, 1e0, 1e1, 1e2, 1e3]\n",
    "\n",
    "for n_iter in range(1,1000):\n",
    "\n",
    "        model = Pipeline([('vect', CountVectorizer(ngram_range=(1, 2))),\n",
    "               ('tfidf', TfidfTransformer(norm='l2')),\n",
    "               ('bc', BaggingClassifier(SGDClassifier(loss='hinge', penalty='l2',alpha=alp, random_state=101, max_iter=n_iter,  tol=None))),\n",
    "               ])\n",
    "        model.fit(X_train, y_train)\n",
    "        y_pred = model.predict(X_test)\n",
    "        acc = accuracy_score(y_pred, y_test)*100\n",
    "        print(acc)\n",
    "        ACU.append((alp,n_iter,acc))\n",
    "        \n",
    "        \"\"\""
   ]
  },
  {
   "cell_type": "code",
   "execution_count": 47,
   "metadata": {},
   "outputs": [],
   "source": [
    "#pd.DataFrame(ACU,columns=['Alpha','max_iter','Accuracy']).sort_values(by='Accuracy',ascending=False).head(10)"
   ]
  },
  {
   "cell_type": "code",
   "execution_count": null,
   "metadata": {},
   "outputs": [],
   "source": []
  },
  {
   "cell_type": "code",
   "execution_count": null,
   "metadata": {},
   "outputs": [],
   "source": []
  },
  {
   "cell_type": "code",
   "execution_count": null,
   "metadata": {},
   "outputs": [],
   "source": []
  },
  {
   "cell_type": "code",
   "execution_count": null,
   "metadata": {},
   "outputs": [],
   "source": []
  },
  {
   "cell_type": "code",
   "execution_count": null,
   "metadata": {},
   "outputs": [],
   "source": []
  },
  {
   "cell_type": "code",
   "execution_count": 48,
   "metadata": {},
   "outputs": [
    {
     "data": {
      "text/plain": [
       "Pipeline(memory=None,\n",
       "     steps=[('vect', CountVectorizer(analyzer='word', binary=False, decode_error='strict',\n",
       "        dtype=<class 'numpy.int64'>, encoding='utf-8', input='content',\n",
       "        lowercase=True, max_df=1000, max_features=None, min_df=10,\n",
       "        ngram_range=(1, 2), preprocessor=None, stop_words=None,\n",
       "        str...inear_tf=False, use_idf=True)), ('clf', MultinomialNB(alpha=1.0, class_prior=None, fit_prior=True))])"
      ]
     },
     "execution_count": 48,
     "metadata": {},
     "output_type": "execute_result"
    }
   ],
   "source": [
    "from sklearn.naive_bayes import MultinomialNB\n",
    "\n",
    "nb = Pipeline([('vect', CountVectorizer(max_df=1000,min_df=10,ngram_range=(1, 2))),\n",
    "               ('tfidf', TfidfTransformer(norm='l2')),\n",
    "               ('clf', MultinomialNB()),\n",
    "              ])\n",
    "nb.fit(df['STORY'], df['SECTION'])"
   ]
  },
  {
   "cell_type": "code",
   "execution_count": 49,
   "metadata": {},
   "outputs": [
    {
     "data": {
      "text/plain": [
       "Pipeline(memory=None,\n",
       "     steps=[('vect', CountVectorizer(analyzer='word', binary=False, decode_error='strict',\n",
       "        dtype=<class 'numpy.int64'>, encoding='utf-8', input='content',\n",
       "        lowercase=True, max_df=1000, max_features=None, min_df=10,\n",
       "        ngram_range=(1, 2), preprocessor=None, stop_words=None,\n",
       "        str...y='l2', power_t=0.5, random_state=101, shuffle=True,\n",
       "       tol=None, verbose=0, warm_start=False))])"
      ]
     },
     "execution_count": 49,
     "metadata": {},
     "output_type": "execute_result"
    }
   ],
   "source": [
    "sgd = Pipeline([('vect', CountVectorizer(max_df=1000,min_df=10,ngram_range=(1, 2), tokenizer=tokenize_and_stem)),\n",
    "           ('tfidf', TfidfTransformer(norm='l2',)),\n",
    "            ('clf', SGDClassifier(loss='hinge', penalty='l2',alpha=1e-3, random_state=101, max_iter=5, tol=None)),\n",
    "           ])\n",
    "sgd.fit(df['STORY'], df['SECTION'])"
   ]
  },
  {
   "cell_type": "code",
   "execution_count": 50,
   "metadata": {},
   "outputs": [
    {
     "data": {
      "text/plain": [
       "Pipeline(memory=None,\n",
       "     steps=[('vect', CountVectorizer(analyzer='word', binary=False, decode_error='strict',\n",
       "        dtype=<class 'numpy.int64'>, encoding='utf-8', input='content',\n",
       "        lowercase=True, max_df=1000, max_features=None, min_df=5,\n",
       "        ngram_range=(1, 3), preprocessor=None, stop_words=None,\n",
       "        stri...ty='l2', random_state=None,\n",
       "          solver='liblinear', tol=0.0001, verbose=0, warm_start=False))])"
      ]
     },
     "execution_count": 50,
     "metadata": {},
     "output_type": "execute_result"
    }
   ],
   "source": [
    "from sklearn.linear_model import LogisticRegression\n",
    "\n",
    "logreg = Pipeline([('vect', CountVectorizer(max_df=1000,min_df=5,ngram_range=(1, 3))),\n",
    "               ('tfidf', TfidfTransformer(norm='l2',)),\n",
    "                ('clf', LogisticRegression(n_jobs=1, C=1e4)),\n",
    "               ])\n",
    "logreg.fit(df['STORY'], df['SECTION'])\n"
   ]
  },
  {
   "cell_type": "code",
   "execution_count": 51,
   "metadata": {},
   "outputs": [
    {
     "data": {
      "text/plain": [
       "Pipeline(memory=None,\n",
       "     steps=[('vect', CountVectorizer(analyzer='word', binary=False, decode_error='strict',\n",
       "        dtype=<class 'numpy.int64'>, encoding='utf-8', input='content',\n",
       "        lowercase=True, max_df=1.0, max_features=None, min_df=1,\n",
       "        ngram_range=(1, 2), preprocessor=None, stop_words=None,\n",
       "        strip...estimators=10, n_jobs=1, oob_score=False,\n",
       "         random_state=None, verbose=0, warm_start=False))])"
      ]
     },
     "execution_count": 51,
     "metadata": {},
     "output_type": "execute_result"
    }
   ],
   "source": [
    "model_sgd = Pipeline([('vect', CountVectorizer(ngram_range=(1, 2))),\n",
    "               ('tfidf', TfidfTransformer(norm='l2')),\n",
    "               ('bc', BaggingClassifier(SGDClassifier(loss='hinge', penalty='l2',alpha=1e-4, random_state=101, max_iter=5,  tol=None))),\n",
    "              ])\n",
    "model_sgd.fit(df['STORY'], df['SECTION'])"
   ]
  },
  {
   "cell_type": "code",
   "execution_count": null,
   "metadata": {},
   "outputs": [],
   "source": []
  },
  {
   "cell_type": "code",
   "execution_count": 52,
   "metadata": {},
   "outputs": [],
   "source": [
    "df_test['STORY'] = df_test['STORY'].apply(remove_apostrophe)\n",
    "df_test['STORY'] = df_test['STORY'].apply(remove_punctuation)\n",
    "df_test['STORY'] = df_test['STORY'].apply(convert_numbers)\n",
    "df_test['STORY'] = df_test['STORY'].apply(clean)"
   ]
  },
  {
   "cell_type": "code",
   "execution_count": 53,
   "metadata": {},
   "outputs": [],
   "source": [
    "def fix_backslash_n(string):\n",
    "    string=string.replace('\\n','')\n",
    "    #while '  ' in string:\n",
    "        #string.replace('  ',' ')\n",
    "    return string\n",
    "\n",
    "def remove_extra(string):\n",
    "    \n",
    "    if 'story has been published from a wire agency feed without modifications to the text. Only the headline has been changed.' in string :\n",
    "        string.replace('story has been published from a wire agency feed without modifications to the text. Only the headline has been changed.',' ')\n",
    "    return string\n",
    "\n",
    "df_test['STORY'] =df_test['STORY'].apply(fix_backslash_n)\n",
    "df_test['STORY'] =df_test['STORY'].apply(remove_extra)\n"
   ]
  },
  {
   "cell_type": "code",
   "execution_count": 54,
   "metadata": {},
   "outputs": [],
   "source": [
    "preds_sgd_bagging = model_sgd.predict(df_test['STORY'])"
   ]
  },
  {
   "cell_type": "code",
   "execution_count": 55,
   "metadata": {},
   "outputs": [],
   "source": [
    "preds_sgd = sgd.predict(df_test['STORY'])"
   ]
  },
  {
   "cell_type": "code",
   "execution_count": 56,
   "metadata": {},
   "outputs": [],
   "source": [
    "preds_nb = nb.predict(df_test['STORY'])"
   ]
  },
  {
   "cell_type": "code",
   "execution_count": 57,
   "metadata": {},
   "outputs": [],
   "source": [
    "preds_logreg = logreg.predict(df_test['STORY'])"
   ]
  },
  {
   "cell_type": "code",
   "execution_count": 58,
   "metadata": {},
   "outputs": [],
   "source": [
    "preds_df = pd.DataFrame(preds_sgd_bagging,columns=['SECTION'])"
   ]
  },
  {
   "cell_type": "code",
   "execution_count": 59,
   "metadata": {},
   "outputs": [],
   "source": [
    "#preds_df['SECTION'].to_excel('preds_7_sgd_bagging.xlsx')"
   ]
  },
  {
   "cell_type": "code",
   "execution_count": null,
   "metadata": {},
   "outputs": [],
   "source": []
  },
  {
   "cell_type": "code",
   "execution_count": 60,
   "metadata": {},
   "outputs": [],
   "source": [
    "import xgboost as xgb"
   ]
  },
  {
   "cell_type": "code",
   "execution_count": 61,
   "metadata": {},
   "outputs": [],
   "source": [
    "gbm = xgb.XGBClassifier(max_depth=3, n_estimators=300, learning_rate=0.05)\n",
    "#predictions = gbm.predict(X_test)"
   ]
  },
  {
   "cell_type": "code",
   "execution_count": null,
   "metadata": {},
   "outputs": [],
   "source": []
  },
  {
   "cell_type": "code",
   "execution_count": 62,
   "metadata": {},
   "outputs": [],
   "source": [
    "tfidf_test = vectorizer.fit_transform(X_test)"
   ]
  },
  {
   "cell_type": "code",
   "execution_count": null,
   "metadata": {},
   "outputs": [],
   "source": []
  },
  {
   "cell_type": "code",
   "execution_count": 63,
   "metadata": {},
   "outputs": [
    {
     "data": {
      "text/html": [
       "<div>\n",
       "<style scoped>\n",
       "    .dataframe tbody tr th:only-of-type {\n",
       "        vertical-align: middle;\n",
       "    }\n",
       "\n",
       "    .dataframe tbody tr th {\n",
       "        vertical-align: top;\n",
       "    }\n",
       "\n",
       "    .dataframe thead th {\n",
       "        text-align: right;\n",
       "    }\n",
       "</style>\n",
       "<table border=\"1\" class=\"dataframe\">\n",
       "  <thead>\n",
       "    <tr style=\"text-align: right;\">\n",
       "      <th></th>\n",
       "      <th>STORY</th>\n",
       "      <th>SECTION</th>\n",
       "      <th>Length</th>\n",
       "    </tr>\n",
       "  </thead>\n",
       "  <tbody>\n",
       "    <tr>\n",
       "      <th>0</th>\n",
       "      <td>painful huge reversal fee income unheard priva...</td>\n",
       "      <td>3</td>\n",
       "      <td>843</td>\n",
       "    </tr>\n",
       "    <tr>\n",
       "      <th>1</th>\n",
       "      <td>formidable opposition alliance congress jharkh...</td>\n",
       "      <td>0</td>\n",
       "      <td>129</td>\n",
       "    </tr>\n",
       "    <tr>\n",
       "      <th>2</th>\n",
       "      <td>asian currency trading lower today south korea...</td>\n",
       "      <td>3</td>\n",
       "      <td>386</td>\n",
       "    </tr>\n",
       "    <tr>\n",
       "      <th>3</th>\n",
       "      <td>want answer question answer clicking answer ch...</td>\n",
       "      <td>1</td>\n",
       "      <td>587</td>\n",
       "    </tr>\n",
       "    <tr>\n",
       "      <th>4</th>\n",
       "      <td>global market gold price edged today disappoin...</td>\n",
       "      <td>3</td>\n",
       "      <td>299</td>\n",
       "    </tr>\n",
       "    <tr>\n",
       "      <th>5</th>\n",
       "      <td>beijing chinese tech giant huawei announced pl...</td>\n",
       "      <td>1</td>\n",
       "      <td>401</td>\n",
       "    </tr>\n",
       "    <tr>\n",
       "      <th>6</th>\n",
       "      <td>mumbai india inc external commercial borrowing...</td>\n",
       "      <td>3</td>\n",
       "      <td>526</td>\n",
       "    </tr>\n",
       "    <tr>\n",
       "      <th>7</th>\n",
       "      <td>wednesday federal reserve chairman jerome powe...</td>\n",
       "      <td>3</td>\n",
       "      <td>320</td>\n",
       "    </tr>\n",
       "    <tr>\n",
       "      <th>8</th>\n",
       "      <td>audience yeh hai aashiqui pyaar tune kya kiya ...</td>\n",
       "      <td>2</td>\n",
       "      <td>212</td>\n",
       "    </tr>\n",
       "    <tr>\n",
       "      <th>9</th>\n",
       "      <td>com arbaaz khan spoke getting dabangg salman p...</td>\n",
       "      <td>2</td>\n",
       "      <td>242</td>\n",
       "    </tr>\n",
       "    <tr>\n",
       "      <th>10</th>\n",
       "      <td>think development testing process wouldve unco...</td>\n",
       "      <td>1</td>\n",
       "      <td>1418</td>\n",
       "    </tr>\n",
       "    <tr>\n",
       "      <th>11</th>\n",
       "      <td>far year rupee gained zero seven foreign inves...</td>\n",
       "      <td>3</td>\n",
       "      <td>245</td>\n",
       "    </tr>\n",
       "    <tr>\n",
       "      <th>12</th>\n",
       "      <td>xiaomi see presence jio rural market growth en...</td>\n",
       "      <td>1</td>\n",
       "      <td>368</td>\n",
       "    </tr>\n",
       "    <tr>\n",
       "      <th>13</th>\n",
       "      <td>ad read bell whistle bezel notch app lag bloat...</td>\n",
       "      <td>1</td>\n",
       "      <td>702</td>\n",
       "    </tr>\n",
       "    <tr>\n",
       "      <th>14</th>\n",
       "      <td>tuesday powell healthy economy faced cross cur...</td>\n",
       "      <td>3</td>\n",
       "      <td>519</td>\n",
       "    </tr>\n",
       "    <tr>\n",
       "      <th>15</th>\n",
       "      <td>feature help make display responsive turn sign...</td>\n",
       "      <td>1</td>\n",
       "      <td>290</td>\n",
       "    </tr>\n",
       "    <tr>\n",
       "      <th>16</th>\n",
       "      <td>tiktok popular child facing criticism differen...</td>\n",
       "      <td>1</td>\n",
       "      <td>760</td>\n",
       "    </tr>\n",
       "    <tr>\n",
       "      <th>17</th>\n",
       "      <td>company hive rating business wholly owned subs...</td>\n",
       "      <td>3</td>\n",
       "      <td>625</td>\n",
       "    </tr>\n",
       "    <tr>\n",
       "      <th>18</th>\n",
       "      <td>chooses hide cp colleague mother house form se...</td>\n",
       "      <td>2</td>\n",
       "      <td>436</td>\n",
       "    </tr>\n",
       "    <tr>\n",
       "      <th>19</th>\n",
       "      <td>thats right opera house simply go apple trying...</td>\n",
       "      <td>1</td>\n",
       "      <td>829</td>\n",
       "    </tr>\n",
       "    <tr>\n",
       "      <th>20</th>\n",
       "      <td>facebook eligible creator able make money vide...</td>\n",
       "      <td>1</td>\n",
       "      <td>381</td>\n",
       "    </tr>\n",
       "    <tr>\n",
       "      <th>21</th>\n",
       "      <td>starring varun dhawan alia bhatt sonakshi sinh...</td>\n",
       "      <td>2</td>\n",
       "      <td>572</td>\n",
       "    </tr>\n",
       "    <tr>\n",
       "      <th>22</th>\n",
       "      <td>gkn security barred misuse called dark fibre i...</td>\n",
       "      <td>3</td>\n",
       "      <td>370</td>\n",
       "    </tr>\n",
       "    <tr>\n",
       "      <th>23</th>\n",
       "      <td>fintech startup zeta founded bhavin turakhia r...</td>\n",
       "      <td>1</td>\n",
       "      <td>394</td>\n",
       "    </tr>\n",
       "    <tr>\n",
       "      <th>24</th>\n",
       "      <td>story published wire agency feed modification ...</td>\n",
       "      <td>0</td>\n",
       "      <td>123</td>\n",
       "    </tr>\n",
       "    <tr>\n",
       "      <th>25</th>\n",
       "      <td>globally established company stratasys optomec...</td>\n",
       "      <td>1</td>\n",
       "      <td>2884</td>\n",
       "    </tr>\n",
       "    <tr>\n",
       "      <th>26</th>\n",
       "      <td>statement yeddyurappa say air strike benefit b...</td>\n",
       "      <td>0</td>\n",
       "      <td>1050</td>\n",
       "    </tr>\n",
       "    <tr>\n",
       "      <th>27</th>\n",
       "      <td>nda seek election agriculture form important p...</td>\n",
       "      <td>0</td>\n",
       "      <td>2114</td>\n",
       "    </tr>\n",
       "    <tr>\n",
       "      <th>28</th>\n",
       "      <td>yeddyurappa iaf air strike benefit bjp bag par...</td>\n",
       "      <td>0</td>\n",
       "      <td>613</td>\n",
       "    </tr>\n",
       "    <tr>\n",
       "      <th>29</th>\n",
       "      <td>” release year far milan talkie raw actor look...</td>\n",
       "      <td>2</td>\n",
       "      <td>484</td>\n",
       "    </tr>\n",
       "    <tr>\n",
       "      <th>...</th>\n",
       "      <td>...</td>\n",
       "      <td>...</td>\n",
       "      <td>...</td>\n",
       "    </tr>\n",
       "    <tr>\n",
       "      <th>7521</th>\n",
       "      <td>tdp party ideology gotten sidelined especially...</td>\n",
       "      <td>0</td>\n",
       "      <td>661</td>\n",
       "    </tr>\n",
       "    <tr>\n",
       "      <th>7522</th>\n",
       "      <td>far weve reviewed kindles paperwhite oasis tru...</td>\n",
       "      <td>1</td>\n",
       "      <td>828</td>\n",
       "    </tr>\n",
       "    <tr>\n",
       "      <th>7523</th>\n",
       "      <td>day market saw high volatility following prime...</td>\n",
       "      <td>3</td>\n",
       "      <td>236</td>\n",
       "    </tr>\n",
       "    <tr>\n",
       "      <th>7524</th>\n",
       "      <td>today gmail allows gb free storage user receiv...</td>\n",
       "      <td>1</td>\n",
       "      <td>618</td>\n",
       "    </tr>\n",
       "    <tr>\n",
       "      <th>7525</th>\n",
       "      <td>aparajita sarangi took voluntary retirement se...</td>\n",
       "      <td>0</td>\n",
       "      <td>489</td>\n",
       "    </tr>\n",
       "    <tr>\n",
       "      <th>7526</th>\n",
       "      <td>investor awaiting economic growth data expiry ...</td>\n",
       "      <td>3</td>\n",
       "      <td>551</td>\n",
       "    </tr>\n",
       "    <tr>\n",
       "      <th>7527</th>\n",
       "      <td>advice online survivalist move unpopulated are...</td>\n",
       "      <td>2</td>\n",
       "      <td>148</td>\n",
       "    </tr>\n",
       "    <tr>\n",
       "      <th>7528</th>\n",
       "      <td>time developer disguising app pretend carrier ...</td>\n",
       "      <td>1</td>\n",
       "      <td>596</td>\n",
       "    </tr>\n",
       "    <tr>\n",
       "      <th>7529</th>\n",
       "      <td>lok sabha election fifth phase voting begin fi...</td>\n",
       "      <td>0</td>\n",
       "      <td>683</td>\n",
       "    </tr>\n",
       "    <tr>\n",
       "      <th>7530</th>\n",
       "      <td>watchdog passed separate order running page re...</td>\n",
       "      <td>3</td>\n",
       "      <td>307</td>\n",
       "    </tr>\n",
       "    <tr>\n",
       "      <th>7531</th>\n",
       "      <td>twitter post week oneplus confirmed presence t...</td>\n",
       "      <td>1</td>\n",
       "      <td>492</td>\n",
       "    </tr>\n",
       "    <tr>\n",
       "      <th>7532</th>\n",
       "      <td>io email client named spark launched android r...</td>\n",
       "      <td>1</td>\n",
       "      <td>282</td>\n",
       "    </tr>\n",
       "    <tr>\n",
       "      <th>7533</th>\n",
       "      <td>question really spend ₹ zero portable music pl...</td>\n",
       "      <td>1</td>\n",
       "      <td>664</td>\n",
       "    </tr>\n",
       "    <tr>\n",
       "      <th>7534</th>\n",
       "      <td>didnt want kind movie felt similar kind movie ...</td>\n",
       "      <td>2</td>\n",
       "      <td>268</td>\n",
       "    </tr>\n",
       "    <tr>\n",
       "      <th>7535</th>\n",
       "      <td>thousand, ninety film mother received best for...</td>\n",
       "      <td>2</td>\n",
       "      <td>278</td>\n",
       "    </tr>\n",
       "    <tr>\n",
       "      <th>7536</th>\n",
       "      <td>mohan babu considered political heavyweight kn...</td>\n",
       "      <td>0</td>\n",
       "      <td>154</td>\n",
       "    </tr>\n",
       "    <tr>\n",
       "      <th>7537</th>\n",
       "      <td>p opened higher point zero seventy nasdaq comp...</td>\n",
       "      <td>3</td>\n",
       "      <td>149</td>\n",
       "    </tr>\n",
       "    <tr>\n",
       "      <th>7538</th>\n",
       "      <td>report suggest smartphone joining line galaxy ...</td>\n",
       "      <td>1</td>\n",
       "      <td>379</td>\n",
       "    </tr>\n",
       "    <tr>\n",
       "      <th>7539</th>\n",
       "      <td>mumbai indian stock rose key index ending reco...</td>\n",
       "      <td>3</td>\n",
       "      <td>617</td>\n",
       "    </tr>\n",
       "    <tr>\n",
       "      <th>7540</th>\n",
       "      <td>sure slightly faster slightly sharper screen w...</td>\n",
       "      <td>1</td>\n",
       "      <td>365</td>\n",
       "    </tr>\n",
       "    <tr>\n",
       "      <th>7541</th>\n",
       "      <td>fourteen seven million pixel billion colour ni...</td>\n",
       "      <td>1</td>\n",
       "      <td>694</td>\n",
       "    </tr>\n",
       "    <tr>\n",
       "      <th>7542</th>\n",
       "      <td>bjd supporter puri congress leader people beli...</td>\n",
       "      <td>0</td>\n",
       "      <td>814</td>\n",
       "    </tr>\n",
       "    <tr>\n",
       "      <th>7543</th>\n",
       "      <td>bollywood celebrity took social medium express...</td>\n",
       "      <td>2</td>\n",
       "      <td>438</td>\n",
       "    </tr>\n",
       "    <tr>\n",
       "      <th>7544</th>\n",
       "      <td>confirmation developer game choose integrate s...</td>\n",
       "      <td>1</td>\n",
       "      <td>416</td>\n",
       "    </tr>\n",
       "    <tr>\n",
       "      <th>7545</th>\n",
       "      <td>term optic redmi note seven boast mp mp ai ena...</td>\n",
       "      <td>1</td>\n",
       "      <td>537</td>\n",
       "    </tr>\n",
       "    <tr>\n",
       "      <th>7546</th>\n",
       "      <td>karnataka congress bastion gave bjp government...</td>\n",
       "      <td>0</td>\n",
       "      <td>394</td>\n",
       "    </tr>\n",
       "    <tr>\n",
       "      <th>7547</th>\n",
       "      <td>film feature janhvi kapoor revolve singing gho...</td>\n",
       "      <td>2</td>\n",
       "      <td>136</td>\n",
       "    </tr>\n",
       "    <tr>\n",
       "      <th>7548</th>\n",
       "      <td>database created bringing criminal record stat...</td>\n",
       "      <td>1</td>\n",
       "      <td>484</td>\n",
       "    </tr>\n",
       "    <tr>\n",
       "      <th>7549</th>\n",
       "      <td>state uneasy relationship mainland day late pr...</td>\n",
       "      <td>0</td>\n",
       "      <td>1927</td>\n",
       "    </tr>\n",
       "    <tr>\n",
       "      <th>7550</th>\n",
       "      <td>virus star kunchacko boban tovino thomas indra...</td>\n",
       "      <td>2</td>\n",
       "      <td>286</td>\n",
       "    </tr>\n",
       "  </tbody>\n",
       "</table>\n",
       "<p>7551 rows × 3 columns</p>\n",
       "</div>"
      ],
      "text/plain": [
       "                                                  STORY  SECTION  Length\n",
       "0     painful huge reversal fee income unheard priva...        3     843\n",
       "1     formidable opposition alliance congress jharkh...        0     129\n",
       "2     asian currency trading lower today south korea...        3     386\n",
       "3     want answer question answer clicking answer ch...        1     587\n",
       "4     global market gold price edged today disappoin...        3     299\n",
       "5     beijing chinese tech giant huawei announced pl...        1     401\n",
       "6     mumbai india inc external commercial borrowing...        3     526\n",
       "7     wednesday federal reserve chairman jerome powe...        3     320\n",
       "8     audience yeh hai aashiqui pyaar tune kya kiya ...        2     212\n",
       "9     com arbaaz khan spoke getting dabangg salman p...        2     242\n",
       "10    think development testing process wouldve unco...        1    1418\n",
       "11    far year rupee gained zero seven foreign inves...        3     245\n",
       "12    xiaomi see presence jio rural market growth en...        1     368\n",
       "13    ad read bell whistle bezel notch app lag bloat...        1     702\n",
       "14    tuesday powell healthy economy faced cross cur...        3     519\n",
       "15    feature help make display responsive turn sign...        1     290\n",
       "16    tiktok popular child facing criticism differen...        1     760\n",
       "17    company hive rating business wholly owned subs...        3     625\n",
       "18    chooses hide cp colleague mother house form se...        2     436\n",
       "19    thats right opera house simply go apple trying...        1     829\n",
       "20    facebook eligible creator able make money vide...        1     381\n",
       "21    starring varun dhawan alia bhatt sonakshi sinh...        2     572\n",
       "22    gkn security barred misuse called dark fibre i...        3     370\n",
       "23    fintech startup zeta founded bhavin turakhia r...        1     394\n",
       "24    story published wire agency feed modification ...        0     123\n",
       "25    globally established company stratasys optomec...        1    2884\n",
       "26    statement yeddyurappa say air strike benefit b...        0    1050\n",
       "27    nda seek election agriculture form important p...        0    2114\n",
       "28    yeddyurappa iaf air strike benefit bjp bag par...        0     613\n",
       "29    ” release year far milan talkie raw actor look...        2     484\n",
       "...                                                 ...      ...     ...\n",
       "7521  tdp party ideology gotten sidelined especially...        0     661\n",
       "7522  far weve reviewed kindles paperwhite oasis tru...        1     828\n",
       "7523  day market saw high volatility following prime...        3     236\n",
       "7524  today gmail allows gb free storage user receiv...        1     618\n",
       "7525  aparajita sarangi took voluntary retirement se...        0     489\n",
       "7526  investor awaiting economic growth data expiry ...        3     551\n",
       "7527  advice online survivalist move unpopulated are...        2     148\n",
       "7528  time developer disguising app pretend carrier ...        1     596\n",
       "7529  lok sabha election fifth phase voting begin fi...        0     683\n",
       "7530  watchdog passed separate order running page re...        3     307\n",
       "7531  twitter post week oneplus confirmed presence t...        1     492\n",
       "7532  io email client named spark launched android r...        1     282\n",
       "7533  question really spend ₹ zero portable music pl...        1     664\n",
       "7534  didnt want kind movie felt similar kind movie ...        2     268\n",
       "7535  thousand, ninety film mother received best for...        2     278\n",
       "7536  mohan babu considered political heavyweight kn...        0     154\n",
       "7537  p opened higher point zero seventy nasdaq comp...        3     149\n",
       "7538  report suggest smartphone joining line galaxy ...        1     379\n",
       "7539  mumbai indian stock rose key index ending reco...        3     617\n",
       "7540  sure slightly faster slightly sharper screen w...        1     365\n",
       "7541  fourteen seven million pixel billion colour ni...        1     694\n",
       "7542  bjd supporter puri congress leader people beli...        0     814\n",
       "7543  bollywood celebrity took social medium express...        2     438\n",
       "7544  confirmation developer game choose integrate s...        1     416\n",
       "7545  term optic redmi note seven boast mp mp ai ena...        1     537\n",
       "7546  karnataka congress bastion gave bjp government...        0     394\n",
       "7547  film feature janhvi kapoor revolve singing gho...        2     136\n",
       "7548  database created bringing criminal record stat...        1     484\n",
       "7549  state uneasy relationship mainland day late pr...        0    1927\n",
       "7550  virus star kunchacko boban tovino thomas indra...        2     286\n",
       "\n",
       "[7551 rows x 3 columns]"
      ]
     },
     "execution_count": 63,
     "metadata": {},
     "output_type": "execute_result"
    }
   ],
   "source": [
    "df"
   ]
  },
  {
   "cell_type": "code",
   "execution_count": 64,
   "metadata": {},
   "outputs": [],
   "source": [
    "def get_len(x):\n",
    "    length = len(x)\n",
    "    \n",
    "    return length\n",
    "df['Length'] = df['STORY'].apply(get_len)"
   ]
  },
  {
   "cell_type": "code",
   "execution_count": 65,
   "metadata": {},
   "outputs": [],
   "source": [
    "X = df[['STORY', 'Length']]\n",
    "Y = df['SECTION']\n",
    "from sklearn.model_selection import train_test_split\n",
    "X_train, X_test, y_train, y_test = train_test_split(X, Y, test_size=0.25)"
   ]
  },
  {
   "cell_type": "code",
   "execution_count": 66,
   "metadata": {},
   "outputs": [],
   "source": [
    "from sklearn.base import BaseEstimator, TransformerMixin\n",
    "class TextSelector(BaseEstimator, TransformerMixin):\n",
    "    def __init__(self, field):\n",
    "        self.field = field\n",
    "    def fit(self, X, y=None):\n",
    "        return self\n",
    "    def transform(self, X):\n",
    "        return X[self.field]\n",
    "class NumberSelector(BaseEstimator, TransformerMixin):\n",
    "    def __init__(self, field):\n",
    "        self.field = field\n",
    "    def fit(self, X, y=None):\n",
    "        return self\n",
    "    def transform(self, X):\n",
    "        return X[[self.field]]"
   ]
  },
  {
   "cell_type": "code",
   "execution_count": 67,
   "metadata": {},
   "outputs": [],
   "source": [
    "import nltk\n",
    "def Tokenizer(str_input):\n",
    "    words = re.sub(r\"[^A-Za-z0-9\\-]\", \" \", str_input).lower().split()\n",
    "    porter_stemmer=nltk.PorterStemmer()\n",
    "    words = [porter_stemmer.stem(word) for word in words]\n",
    "    return words"
   ]
  },
  {
   "cell_type": "code",
   "execution_count": 68,
   "metadata": {},
   "outputs": [
    {
     "name": "stderr",
     "output_type": "stream",
     "text": [
      "C:\\Users\\drago\\Anaconda3\\lib\\site-packages\\ipykernel_launcher.py:1: SettingWithCopyWarning: \n",
      "A value is trying to be set on a copy of a slice from a DataFrame.\n",
      "Try using .loc[row_indexer,col_indexer] = value instead\n",
      "\n",
      "See the caveats in the documentation: http://pandas.pydata.org/pandas-docs/stable/indexing.html#indexing-view-versus-copy\n",
      "  \"\"\"Entry point for launching an IPython kernel.\n"
     ]
    }
   ],
   "source": [
    "X['Length']=1"
   ]
  },
  {
   "cell_type": "code",
   "execution_count": 69,
   "metadata": {},
   "outputs": [
    {
     "data": {
      "text/plain": [
       "Pipeline(memory=None,\n",
       "     steps=[('features', FeatureUnion(n_jobs=1,\n",
       "       transformer_list=[('text', Pipeline(memory=None,\n",
       "     steps=[('colext', TextSelector(field='STORY')), ('tfidf', TfidfVectorizer(analyzer='word', binary=False, decode_error='strict',\n",
       "        dtype=<class 'numpy.int64'>, encoding='utf-8', input='conten...\n",
       "       reg_lambda=1, scale_pos_weight=1, seed=None, silent=None,\n",
       "       subsample=1, verbosity=1))])"
      ]
     },
     "execution_count": 69,
     "metadata": {},
     "output_type": "execute_result"
    }
   ],
   "source": [
    "from sklearn.pipeline import Pipeline, FeatureUnion\n",
    "from sklearn.feature_extraction.text import TfidfVectorizer\n",
    "from sklearn.preprocessing import StandardScaler\n",
    "from sklearn.decomposition import TruncatedSVD\n",
    "from sklearn.ensemble import RandomForestClassifier\n",
    "from xgboost import XGBClassifier\n",
    "from sklearn.model_selection import GridSearchCV, cross_val_score, StratifiedKFold\n",
    "\n",
    "classifier = Pipeline([\n",
    "    ('features', FeatureUnion([\n",
    "        ('text', Pipeline([\n",
    "            ('colext', TextSelector('STORY')),\n",
    "            ('tfidf', TfidfVectorizer(tokenizer=Tokenizer, stop_words=stop_words,\n",
    "                     min_df=.0025, max_df=0.25, ngram_range=(1,3))),\n",
    "            ('svd', TruncatedSVD(algorithm='randomized', n_components=300)), #for XGB\n",
    "        ])),\n",
    "        ('words', Pipeline([\n",
    "            ('wordext', NumberSelector('Length')),\n",
    "            ('wscaler', StandardScaler()),\n",
    "        ])),\n",
    "    ])),\n",
    "    ('clf', XGBClassifier(max_depth=3, n_estimators=300, learning_rate=0.1)),\n",
    "#    ('clf', RandomForestClassifier()),\n",
    "    ])\n",
    "classifier.fit(X_train,y_train)\n"
   ]
  },
  {
   "cell_type": "code",
   "execution_count": 70,
   "metadata": {},
   "outputs": [
    {
     "name": "stdout",
     "output_type": "stream",
     "text": [
      "accuracy 0.9565677966101694\n",
      "             precision    recall  f1-score   support\n",
      "\n",
      "          0       0.95      0.94      0.94       409\n",
      "          1       0.96      0.96      0.96       677\n",
      "          2       0.95      0.96      0.96       504\n",
      "          3       0.96      0.96      0.96       298\n",
      "\n",
      "avg / total       0.96      0.96      0.96      1888\n",
      "\n"
     ]
    },
    {
     "name": "stderr",
     "output_type": "stream",
     "text": [
      "C:\\Users\\drago\\Anaconda3\\lib\\site-packages\\sklearn\\preprocessing\\label.py:151: DeprecationWarning: The truth value of an empty array is ambiguous. Returning False, but in future this will result in an error. Use `array.size > 0` to check that an array is not empty.\n",
      "  if diff:\n"
     ]
    }
   ],
   "source": [
    "preds = classifier.predict(X_test)\n",
    "\n",
    "print('accuracy %s' % accuracy_score(preds, y_test))\n",
    "print(classification_report(y_test, preds))"
   ]
  },
  {
   "cell_type": "code",
   "execution_count": 71,
   "metadata": {},
   "outputs": [
    {
     "data": {
      "text/plain": [
       "{'base_score': 0.5,\n",
       " 'booster': 'gbtree',\n",
       " 'colsample_bylevel': 1,\n",
       " 'colsample_bynode': 1,\n",
       " 'colsample_bytree': 1,\n",
       " 'gamma': 0,\n",
       " 'learning_rate': 0.1,\n",
       " 'max_delta_step': 0,\n",
       " 'max_depth': 3,\n",
       " 'min_child_weight': 1,\n",
       " 'missing': None,\n",
       " 'n_estimators': 300,\n",
       " 'n_jobs': 1,\n",
       " 'nthread': None,\n",
       " 'objective': 'multi:softprob',\n",
       " 'random_state': 0,\n",
       " 'reg_alpha': 0,\n",
       " 'reg_lambda': 1,\n",
       " 'scale_pos_weight': 1,\n",
       " 'seed': None,\n",
       " 'silent': None,\n",
       " 'subsample': 1,\n",
       " 'verbosity': 1}"
      ]
     },
     "execution_count": 71,
     "metadata": {},
     "output_type": "execute_result"
    }
   ],
   "source": [
    "classifier.named_steps['clf'].get_params()"
   ]
  },
  {
   "cell_type": "code",
   "execution_count": null,
   "metadata": {},
   "outputs": [],
   "source": [
    "param_grid = {\n",
    "     'clf__n_estimators': [50,100,300,500,1000]\n",
    "#    'clf__colsample_bytree': [0.6,0.8,1]\n",
    "#    'clf__subsample': [0.5, 0.6, 0.7, 0.8, 0.9, 1]\n",
    "}"
   ]
  },
  {
   "cell_type": "markdown",
   "metadata": {},
   "source": [
    "grid_search = GridSearchCV(estimator = classifier, param_grid = param_grid, \n",
    "                          cv = 3, n_jobs = 1, verbose = 0, return_train_score=True)"
   ]
  },
  {
   "cell_type": "markdown",
   "metadata": {},
   "source": [
    "clf_test = grid_search.fit(X_train, y_train)\n",
    "\n"
   ]
  },
  {
   "cell_type": "markdown",
   "metadata": {},
   "source": [
    "grid_search.cv_results_['mean_train_score']\n"
   ]
  },
  {
   "cell_type": "markdown",
   "metadata": {},
   "source": [
    "grid_search.cv_results_['mean_test_score']\n"
   ]
  },
  {
   "cell_type": "markdown",
   "metadata": {},
   "source": [
    "grid_search.best_params_\n"
   ]
  },
  {
   "cell_type": "code",
   "execution_count": null,
   "metadata": {},
   "outputs": [],
   "source": []
  },
  {
   "cell_type": "markdown",
   "metadata": {},
   "source": [
    "classifier = Pipeline([\n",
    "    ('features', FeatureUnion([\n",
    "        ('text', Pipeline([\n",
    "            ('colext', TextSelector('STORY')),\n",
    "            ('tfidf', TfidfVectorizer(tokenizer=Tokenizer, stop_words=stop_words,\n",
    "                     min_df=.0025, max_df=0.25, ngram_range=(1,3))),\n",
    "            ('svd', TruncatedSVD(algorithm='randomized', n_components=300)), #f\n",
    "        ])),\n",
    "        ('words', Pipeline([\n",
    "            ('wordext', NumberSelector('Length')),\n",
    "            ('wscaler', StandardScaler()),\n",
    "        ])),\n",
    "    ])),\n",
    "    ('clf', XGBClassifier(max_depth=3, n_estimators=500, learning_rate=0.1)),\n",
    "#    ('clf', RandomForestClassifier()),\n",
    "    ])"
   ]
  },
  {
   "cell_type": "markdown",
   "metadata": {},
   "source": [
    "classifier = Pipeline([\n",
    "    ('tfidf', TfidfVectorizer(tokenizer=Tokenizer, stop_words=stop_words,\n",
    "                     min_df=.0025, max_df=0.25, ngram_range=(1,3))),\n",
    "    ('svd', TruncatedSVD(algorithm='randomized', n_components=500)), #for XGB\n",
    "    ('clf', XGBClassifier(max_depth=3, n_estimators=500, learning_rate=0.1)),\n",
    "])"
   ]
  },
  {
   "cell_type": "markdown",
   "metadata": {},
   "source": [
    "classifier.named_steps['svd'].get_params()\n"
   ]
  },
  {
   "cell_type": "markdown",
   "metadata": {},
   "source": [
    "import warnings\n",
    "param_grid = {\n",
    "     'tfidf__min_df' : [3,4,5,6,7,8,9,10],\n",
    "     'tfidf__max_df' : [600,700,800,900,1000,1100],\n",
    "     'svd__n_components' :[ 50,100,300,500,800,1000],\n",
    "     'svd__n_iter' : [4,5,6],\n",
    "     'clf__n_estimators' : [50,100,300,500,1000],\n",
    "     'clf__colsample_bytree' : [0.6,0.8,1],\n",
    "     'clf__subsample' : [0.5, 0.6, 0.7, 0.8, 0.9, 1],\n",
    "\n",
    "}"
   ]
  },
  {
   "cell_type": "markdown",
   "metadata": {},
   "source": [
    "grid_search = GridSearchCV(estimator = classifier, param_grid = param_grid, \n",
    "                          cv = 3, n_jobs = 1, verbose = 0, return_train_score=True)"
   ]
  },
  {
   "cell_type": "markdown",
   "metadata": {},
   "source": [
    "clf_test = grid_search.fit(X_train['STORY'], y_train)\n"
   ]
  },
  {
   "cell_type": "markdown",
   "metadata": {},
   "source": [
    "grid_search.cv_results_['mean_train_score']\n"
   ]
  },
  {
   "cell_type": "markdown",
   "metadata": {},
   "source": [
    "grid_search.cv_results_['mean_test_score']\n"
   ]
  },
  {
   "cell_type": "markdown",
   "metadata": {},
   "source": [
    "grid_search.best_params_\n"
   ]
  },
  {
   "cell_type": "markdown",
   "metadata": {},
   "source": [
    "classifier.fit(X_train, y_train)\n",
    "preds = classifier.predict(X_test)\n",
    "\n",
    "print('accuracy %s' % accuracy_score(preds, y_test))\n",
    "print(classification_report(y_test, preds))"
   ]
  },
  {
   "cell_type": "code",
   "execution_count": null,
   "metadata": {},
   "outputs": [],
   "source": []
  },
  {
   "cell_type": "markdown",
   "metadata": {},
   "source": [
    "List = [100,200,300,400,500,600,700,800,900,1000]\n",
    "List_2 = [100,200,300,400,500,600,700,800,900,1000]\n",
    "\n",
    "for x in List:\n",
    "    for y in List_2:\n",
    "        classifier = Pipeline([\n",
    "            ('features', FeatureUnion([\n",
    "                ('text', Pipeline([\n",
    "                    ('colext', TextSelector('STORY')),\n",
    "                    ('tfidf', TfidfVectorizer(tokenizer=Tokenizer, stop_words=stop_words,\n",
    "                             min_df=4, max_df=1200, ngram_range=(1,2))),\n",
    "                    ('svd', TruncatedSVD(algorithm='randomized', n_components=x)), #for XGB\n",
    "                ])),\n",
    "                ('words', Pipeline([\n",
    "                    ('wordext', NumberSelector('Length')),\n",
    "                    ('wscaler', StandardScaler()),\n",
    "                ])),\n",
    "            ])),\n",
    "            ('clf', XGBClassifier(max_depth=3, n_estimators=y, learning_rate=0.1)),\n",
    "        #    ('clf', RandomForestClassifier()),\n",
    "            ])\n",
    "        classifier.fit(X_train, y_train)\n",
    "        preds = classifier.predict(X_test)\n",
    "\n",
    "        print('accuracy %s' % accuracy_score(preds, y_test))\n",
    "        print(x,y)\n",
    "        #print(classification_report(y_test, preds))"
   ]
  },
  {
   "cell_type": "markdown",
   "metadata": {},
   "source": [
    "classifier.fit(X_train, y_train)\n",
    "preds = classifier.predict(X_test)\n",
    "\n",
    "print('accuracy %s' % accuracy_score(preds, y_test))\n",
    "print(classification_report(y_test, preds))"
   ]
  },
  {
   "cell_type": "code",
   "execution_count": null,
   "metadata": {},
   "outputs": [],
   "source": []
  }
 ],
 "metadata": {
  "kernelspec": {
   "display_name": "Python 3",
   "language": "python",
   "name": "python3"
  },
  "language_info": {
   "codemirror_mode": {
    "name": "ipython",
    "version": 3
   },
   "file_extension": ".py",
   "mimetype": "text/x-python",
   "name": "python",
   "nbconvert_exporter": "python",
   "pygments_lexer": "ipython3",
   "version": "3.6.4"
  }
 },
 "nbformat": 4,
 "nbformat_minor": 2
}
